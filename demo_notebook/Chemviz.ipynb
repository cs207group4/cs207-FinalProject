{
 "cells": [
  {
   "cell_type": "code",
   "execution_count": null,
   "metadata": {
    "collapsed": true
   },
   "outputs": [],
   "source": [
    "### import matplotlib.pyplot as plt\n",
    "\n",
    "class ChemViz: \n",
    "        \n",
    "    def __init__(self, chem):\n",
    "        \n",
    "        self.chem = chem\n",
    "        self.file = None\n",
    "        self.species = None\n",
    "        ## species will be a list\n",
    "        self.T = None\n",
    "        ## will also be a list/range\n",
    "        self.simulation_file = None\n",
    "        ## I dont remember what the sim file is for? remind me?\n",
    "\n",
    "## so the chemviz will solve within this package, rather than reading in from the solver\n",
    "## BEcause people can specify a diff range here then they did above\n",
    "    \n",
    "    def plot_time_series(file, species, T, simulation_file):\n",
    "        \n",
    "        ##this would use the time range from the file\n",
    "        \n",
    "        ## First read in file \n",
    "        \n",
    "        ## then specify only the species \n",
    "        \n",
    "        ## Then specify the time range\n",
    "        \n",
    "        ## wat is sim file?\n",
    "\n",
    "        \n",
    "        \n",
    "        \n",
    "        \n",
    "        \n",
    "\"\"\"%matplotlib inline\n",
    "plt.figure(figsize = (10,5))\n",
    "plt.plot(df['t'],df['H2-Concentration'])\n",
    "plt.plot(df['t'],df['H2O-Concentration'])\n",
    "plt.plot(df['t'],df['O-Concentration'])\n",
    "plt.plot(df['t'],df['H-Concentration'])\n",
    "plt.plot(df['t'],df['OH-Concentration'])\n",
    "plt.plot(df['t'],df['O2-Concentration'])\n",
    "plt.legend()\n",
    "df.tail(20)\"\"\"\n",
    "    \n",
    "    "
   ]
  }
 ],
 "metadata": {
  "kernelspec": {
   "display_name": "Python 3",
   "language": "python",
   "name": "python3"
  },
  "language_info": {
   "codemirror_mode": {
    "name": "ipython",
    "version": 3
   },
   "file_extension": ".py",
   "mimetype": "text/x-python",
   "name": "python",
   "nbconvert_exporter": "python",
   "pygments_lexer": "ipython3",
   "version": "3.6.1"
  }
 },
 "nbformat": 4,
 "nbformat_minor": 2
}
