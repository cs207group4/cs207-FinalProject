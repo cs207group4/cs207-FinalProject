{
 "cells": [
  {
   "cell_type": "code",
   "execution_count": 3,
   "metadata": {},
   "outputs": [
    {
     "ename": "NameError",
     "evalue": "name 'test' is not defined",
     "output_type": "error",
     "traceback": [
      "\u001b[0;31m---------------------------------------------------------------------------\u001b[0m",
      "\u001b[0;31mNameError\u001b[0m                                 Traceback (most recent call last)",
      "\u001b[0;32m<ipython-input-3-ce8d08e1f2f3>\u001b[0m in \u001b[0;36m<module>\u001b[0;34m()\u001b[0m\n\u001b[0;32m----> 1\u001b[0;31m \u001b[0moutputfile\u001b[0m \u001b[0;34m=\u001b[0m \u001b[0mtest\u001b[0m\u001b[0;34m\u001b[0m\u001b[0m\n\u001b[0m\u001b[1;32m      2\u001b[0m \u001b[0mfinal\u001b[0m \u001b[0;34m=\u001b[0m \u001b[0mstr\u001b[0m\u001b[0;34m(\u001b[0m\u001b[0moutputfile\u001b[0m\u001b[0;34m)\u001b[0m \u001b[0;34m+\u001b[0m \u001b[0;34m(\u001b[0m\u001b[0mstr\u001b[0m\u001b[0;34m(\u001b[0m\u001b[0mpng\u001b[0m\u001b[0;34m)\u001b[0m\u001b[0;34m)\u001b[0m\u001b[0;34m\u001b[0m\u001b[0m\n",
      "\u001b[0;31mNameError\u001b[0m: name 'test' is not defined"
     ]
    }
   ],
   "source": [
    "outputfile = \n",
    "final = str(outputfile) + (str(png))"
   ]
  },
  {
   "cell_type": "code",
   "execution_count": 5,
   "metadata": {
    "collapsed": true
   },
   "outputs": [],
   "source": [
    "import numpy as np\n",
    "from itertools import product\n",
    "import matplotlib as plt"
   ]
  },
  {
   "cell_type": "code",
   "execution_count": 1,
   "metadata": {},
   "outputs": [
    {
     "ename": "IndentationError",
     "evalue": "expected an indented block (<ipython-input-1-77b8ca11004a>, line 32)",
     "output_type": "error",
     "traceback": [
      "\u001b[0;36m  File \u001b[0;32m\"<ipython-input-1-77b8ca11004a>\"\u001b[0;36m, line \u001b[0;32m32\u001b[0m\n\u001b[0;31m    def save_image()\u001b[0m\n\u001b[0m      ^\u001b[0m\n\u001b[0;31mIndentationError\u001b[0m\u001b[0;31m:\u001b[0m expected an indented block\n"
     ]
    }
   ],
   "source": [
    "### import matplotlib.pyplot as plt\n",
    "\n",
    "class ChemViz: \n",
    "        \n",
    "    def __init__(self, chem):\n",
    "        \n",
    "        self.chem = chem\n",
    "        self.file = None\n",
    "        self.species = None\n",
    "        ## species will be a list\n",
    "        self.T = None\n",
    "        ## will also be a list/range\n",
    "        self.simulation_file = None\n",
    "        self.yaxis= None\n",
    "        ## I dont remember what the sim file is for? remind me?\n",
    "\n",
    "## so the chemviz will solve within this package, rather than reading in from the solver\n",
    "## BEcause people can specify a diff range here then they did above\n",
    "\n",
    "    \n",
    "    \n",
    "    def plot_time_series(file, species, T, yaxis, outputfile=None):\n",
    "        \n",
    "        def readinfile():\n",
    "            if file ======= CSV??: \n",
    "                df = pd.read_csv(str(file))\n",
    "            if file ======= HDf5: \n",
    "                df = store = pd.HDFStore(str(file))\n",
    "        \n",
    "        self.yaxis = \n",
    "        ### yaxis type = reaction rate or concentration\n",
    "        \n",
    "        ##this would use the time range from the file\n",
    "        if self.T > chemkin.T[-1]:\n",
    "            ## ??????????? how to get the highest temp calculated?\n",
    "            raise ValueError(\"Temperature out of range\")\n",
    "        if self.T < chemkin.T[0]:\n",
    "            ## ??????????? how to get the lowest temp calculated?\n",
    "            raise ValueError(\"Temperature out of range\") \n",
    "        \n",
    "        ## First read in file , csv or HDf5\n",
    "        \n",
    "        ## then specify only the species \n",
    "        \n",
    "        ## Then specify the time range\n",
    "            ## then just throw an error\n",
    "        \n",
    "        ## \n",
    "        \n",
    "        \n",
    "        ### to help make colors that can be seen\n",
    "        def getcolors():\n",
    "            N = len(self.species)\n",
    "            ## make function to return a unique RGB (0-1)\n",
    "            \n",
    "            ## ??????????? list of colors.. need to change the touple values rn, theyre all the same. \n",
    "            colors = list(product(np.arange(0.0, 1.0, 0.4), repeat=N))\n",
    "            \n",
    "            \n",
    "        for i,v in enumerate(len(self.species)):\n",
    "            plt.plot(\"\"\"SOMETHING..how to get from CSV or HDf5\"\"\", color = colors[i])\n",
    "            \n",
    "            \n",
    "            \n",
    "            \n",
    "            \n",
    "        ## R, G, B values\n",
    "        #???????????????????? how to make output file have .png in string format\n",
    "        plt.savefig('ChemVizplot.png')\n",
    "        \n",
    "        \n",
    "\"\"\"%matplotlib inline\n",
    "plt.figure(figsize = (10,5))\n",
    "plt.plot(df['t'],df['H2-Concentration'])\n",
    "plt.plot(df['t'],df['H2O-Concentration'])\n",
    "plt.plot(df['t'],df['O-Concentration'], color = (33, 55, 66,))\n",
    "plt.plot(df['t'],df['H-Concentration'])\n",
    "plt.plot(df['t'],df['OH-Concentration'])\n",
    "plt.plot(df['t'],df['O2-Concentration'])\n",
    "plt.legend()\n",
    "df.tail(20)\"\"\"\n",
    "### How to make \n",
    "    "
   ]
  },
  {
   "cell_type": "code",
   "execution_count": null,
   "metadata": {
    "collapsed": true
   },
   "outputs": [],
   "source": []
  }
 ],
 "metadata": {
  "kernelspec": {
   "display_name": "Python 3",
   "language": "python",
   "name": "python3"
  },
  "language_info": {
   "codemirror_mode": {
    "name": "ipython",
    "version": 3
   },
   "file_extension": ".py",
   "mimetype": "text/x-python",
   "name": "python",
   "nbconvert_exporter": "python",
   "pygments_lexer": "ipython3",
   "version": "3.6.1"
  }
 },
 "nbformat": 4,
 "nbformat_minor": 2
}
