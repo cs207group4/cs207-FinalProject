{
 "cells": [
  {
   "cell_type": "code",
   "execution_count": 1,
   "metadata": {},
   "outputs": [
    {
     "ename": "IndentationError",
     "evalue": "expected an indented block (<ipython-input-1-77b8ca11004a>, line 32)",
     "output_type": "error",
     "traceback": [
      "\u001b[0;36m  File \u001b[0;32m\"<ipython-input-1-77b8ca11004a>\"\u001b[0;36m, line \u001b[0;32m32\u001b[0m\n\u001b[0;31m    def save_image()\u001b[0m\n\u001b[0m      ^\u001b[0m\n\u001b[0;31mIndentationError\u001b[0m\u001b[0;31m:\u001b[0m expected an indented block\n"
     ]
    }
   ],
   "source": [
    "### import matplotlib.pyplot as plt\n",
    "\n",
    "class ChemViz: \n",
    "        \n",
    "    def __init__(self, chem):\n",
    "        \n",
    "        self.chem = chem\n",
    "        self.file = None\n",
    "        self.species = None\n",
    "        ## species will be a list\n",
    "        self.T = None\n",
    "        ## will also be a list/range\n",
    "        self.simulation_file = None\n",
    "        ## I dont remember what the sim file is for? remind me?\n",
    "\n",
    "## so the chemviz will solve within this package, rather than reading in from the solver\n",
    "## BEcause people can specify a diff range here then they did above\n",
    "    \n",
    "    def plot_time_series(file, species, T, simulation_file):\n",
    "        \n",
    "        ##this would use the time range from the file\n",
    "        \n",
    "        ## First read in file \n",
    "        \n",
    "        ## then specify only the species \n",
    "        \n",
    "        ## Then specify the time range\n",
    "        \n",
    "        ## wat is sim file?\n",
    "\n",
    "        \n",
    "    def save_image()\n",
    "        plt.savefig('ChemVizplot.png')\n",
    "        \n",
    "        \n",
    "\"\"\"%matplotlib inline\n",
    "plt.figure(figsize = (10,5))\n",
    "plt.plot(df['t'],df['H2-Concentration'])\n",
    "plt.plot(df['t'],df['H2O-Concentration'])\n",
    "plt.plot(df['t'],df['O-Concentration'])\n",
    "plt.plot(df['t'],df['H-Concentration'])\n",
    "plt.plot(df['t'],df['OH-Concentration'])\n",
    "plt.plot(df['t'],df['O2-Concentration'])\n",
    "plt.legend()\n",
    "df.tail(20)\"\"\"\n",
    "    \n",
    "    "
   ]
  },
  {
   "cell_type": "code",
   "execution_count": null,
   "metadata": {
    "collapsed": true
   },
   "outputs": [],
   "source": []
  }
 ],
 "metadata": {
  "kernelspec": {
   "display_name": "Python 3",
   "language": "python",
   "name": "python3"
  },
  "language_info": {
   "codemirror_mode": {
    "name": "ipython",
    "version": 3
   },
   "file_extension": ".py",
   "mimetype": "text/x-python",
   "name": "python",
   "nbconvert_exporter": "python",
   "pygments_lexer": "ipython3",
   "version": "3.6.1"
  }
 },
 "nbformat": 4,
 "nbformat_minor": 2
}
