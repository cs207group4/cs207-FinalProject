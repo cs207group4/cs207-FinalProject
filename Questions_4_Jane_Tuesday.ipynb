{
 "cells": [
  {
   "cell_type": "code",
   "execution_count": 1,
   "metadata": {},
   "outputs": [],
   "source": [
    "from chemkin import *"
   ]
  },
  {
   "cell_type": "code",
   "execution_count": 3,
   "metadata": {
    "collapsed": true
   },
   "outputs": [],
   "source": [
    "reactions = chemkin.from_xml('rxns.xml')\n",
    "## so now this is calling our class, and using a setter\n",
    "reactions.set_rc_params(T=555)\n"
   ]
  },
  {
   "cell_type": "code",
   "execution_count": 4,
   "metadata": {},
   "outputs": [
    {
     "data": {
      "text/plain": [
       "<bound method chemkin.reaction_rate of chemkin([[1.0, 0.0, 0.0], [0.0, 1.0, 0.0], [0.0, 0.0, 1.0], [0.0, 1.0, 1.0], [0.0, 0.0, 0.0], [1.0, 0.0, 0.0]],[[0.0, 1.0, 1.0], [1.0, 0.0, 0.0], [1.0, 1.0, 0.0], [0.0, 0.0, 0.0], [0.0, 0.0, 1.0], [0.0, 0.0, 0.0]],[ReactionCoeffs(\"Arrhenius\" ,A = 35200000000.0 ,E = 71400.0 ,R = 8.314 ,T = 555), ReactionCoeffs(\"modifiedArrhenius\" ,A = 0.0506 ,b = 2.7 ,E = 26300.0 ,R = 8.314 ,T = 555), ReactionCoeffs(\"Constant\" ,k = 1000.0 ,R = 8.314 ,T = 555)],['H', 'O', 'OH', 'H2', 'H2O', 'O2'])>"
      ]
     },
     "execution_count": 4,
     "metadata": {},
     "output_type": "execute_result"
    }
   ],
   "source": [
    "reactions.reaction_rate"
   ]
  },
  {
   "cell_type": "code",
   "execution_count": 5,
   "metadata": {},
   "outputs": [
    {
     "data": {
      "text/plain": [
       "<bound method chemkin.progress_rate of chemkin([[1.0, 0.0, 0.0], [0.0, 1.0, 0.0], [0.0, 0.0, 1.0], [0.0, 1.0, 1.0], [0.0, 0.0, 0.0], [1.0, 0.0, 0.0]],[[0.0, 1.0, 1.0], [1.0, 0.0, 0.0], [1.0, 1.0, 0.0], [0.0, 0.0, 0.0], [0.0, 0.0, 1.0], [0.0, 0.0, 0.0]],[ReactionCoeffs(\"Arrhenius\" ,A = 35200000000.0 ,E = 71400.0 ,R = 8.314 ,T = 555), ReactionCoeffs(\"modifiedArrhenius\" ,A = 0.0506 ,b = 2.7 ,E = 26300.0 ,R = 8.314 ,T = 555), ReactionCoeffs(\"Constant\" ,k = 1000.0 ,R = 8.314 ,T = 555)],['H', 'O', 'OH', 'H2', 'H2O', 'O2'])>"
      ]
     },
     "execution_count": 5,
     "metadata": {},
     "output_type": "execute_result"
    }
   ],
   "source": [
    "reactions.progress_rate"
   ]
  },
  {
   "cell_type": "code",
   "execution_count": 10,
   "metadata": {},
   "outputs": [
    {
     "name": "stdout",
     "output_type": "stream",
     "text": [
      "chemkin: ['H', 'O', 'OH', 'H2', 'H2O', 'O2']\n",
      "nu_react:\n",
      "[[ 1.  0.  0.]\n",
      " [ 0.  1.  0.]\n",
      " [ 0.  0.  1.]\n",
      " [ 0.  1.  1.]\n",
      " [ 0.  0.  0.]\n",
      " [ 1.  0.  0.]]\n",
      "nu_prod:\n",
      "[[ 0.  1.  1.]\n",
      " [ 1.  0.  0.]\n",
      " [ 1.  1.  0.]\n",
      " [ 0.  0.  0.]\n",
      " [ 0.  0.  1.]\n",
      " [ 0.  0.  0.]]\n",
      "reaction coefficients:\n",
      "[\n",
      "Arrhenius Reaction Coeffs: {'A': 35200000000.0, 'E': 71400.0, 'R': 8.314, 'T': 555}\n",
      "modifiedArrhenius Reaction Coeffs: {'A': 0.0506, 'b': 2.7, 'E': 26300.0, 'R': 8.314, 'T': 555}\n",
      "Constant Reaction Coeffs: {'k': 1000.0, 'R': 8.314, 'T': 555}\n",
      "]\n",
      "3\n"
     ]
    }
   ],
   "source": [
    "print(reactions)\n",
    "#prints those in the xml file. \n",
    "print(len(reactions))"
   ]
  },
  {
   "cell_type": "code",
   "execution_count": null,
   "metadata": {
    "collapsed": true
   },
   "outputs": [],
   "source": [
    "## Test chemkin\n",
    "#pytest stopped running in my terminal"
   ]
  },
  {
   "cell_type": "markdown",
   "metadata": {},
   "source": [
    "If the doctest is running, then we should call in rxns.xml in the doctest no?\n",
    "- ReactionCoeffs class does not need it because we are just calc k"
   ]
  }
 ],
 "metadata": {
  "kernelspec": {
   "display_name": "Python 3",
   "language": "python",
   "name": "python3"
  },
  "language_info": {
   "codemirror_mode": {
    "name": "ipython",
    "version": 3
   },
   "file_extension": ".py",
   "mimetype": "text/x-python",
   "name": "python",
   "nbconvert_exporter": "python",
   "pygments_lexer": "ipython3",
   "version": "3.6.1"
  }
 },
 "nbformat": 4,
 "nbformat_minor": 2
}
