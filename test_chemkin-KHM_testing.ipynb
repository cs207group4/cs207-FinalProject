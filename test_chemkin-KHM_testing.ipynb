{
 "cells": [
  {
   "cell_type": "code",
   "execution_count": 1,
   "metadata": {
    "collapsed": true
   },
   "outputs": [],
   "source": [
    "from chemkin import *\n",
    "reactions = chemkin.from_xml('rxns.xml')"
   ]
  },
  {
   "cell_type": "code",
   "execution_count": null,
   "metadata": {
    "collapsed": true
   },
   "outputs": [],
   "source": [
    "#things covered\n",
    "#T Cant be negative, number of rates"
   ]
  },
  {
   "cell_type": "code",
   "execution_count": 14,
   "metadata": {},
   "outputs": [
    {
     "data": {
      "text/plain": [
       "array([ -5.48082531e+06,   5.48182531e+06,   7.63568926e+06,\n",
       "        -1.07843197e+06,   1.00000000e+03,  -6.55925729e+06])"
      ]
     },
     "execution_count": 14,
     "metadata": {},
     "output_type": "execute_result"
    }
   ],
   "source": [
    "reactions.set_rc_params(T=1000)\n",
    "reactions.reaction_rate([[1],[4],[1],[1],[1],[1]])"
   ]
  },
  {
   "cell_type": "code",
   "execution_count": null,
   "metadata": {
    "collapsed": true
   },
   "outputs": [],
   "source": [
    "from chemkin import *\n",
    "#T must be positive!\n",
    "def test_NegativeT():\n",
    "    try:\n",
    "    rc = ReactionCoeffs('modifiedArrhenius', A = 1e7, E=1e3, T=-1000, b=0.5)\n",
    "    except ValueError as err:\n",
    "        assert(type(err) == ValueError)\n",
    "\n",
    "v2 = np.array([\n",
    "    [1,0,0],\n",
    "    [0,1,0],\n",
    "    [2,0,1],\n",
    "    [0,0,1],\n",
    "    [0,1,0, 3, 4, 5]\n",
    "])       \n",
    "        \n",
    "def test_Dimensions():\n",
    "    try:\n",
    "    d = chemkin.init_const_rc(np.array([\n",
    "    [2,0,0],\n",
    "    [1,0,1],\n",
    "    [0,1,0],\n",
    "    [0,1,0],\n",
    "    [0,0,1]\n",
    "]),np.array([\n",
    "    [1,0,0],\n",
    "    [0,1,0],\n",
    "    [2,0,1],\n",
    "    [0,0,1],\n",
    "    [0,1,0,3,3,3,3,33,3]\n",
    "]),[1e2]*3)\n",
    "    #Dimensions not consistant!\n",
    "    except ValueError as err:\n",
    "        assert(type(err) == ValueError)        \n",
    "        \n",
    "        "
   ]
  },
  {
   "cell_type": "code",
   "execution_count": null,
   "metadata": {
    "collapsed": true
   },
   "outputs": [],
   "source": [
    "       \n",
    "\n",
    "def test_str():\n",
    "    rc = ReactionCoeffs('Constant', k = 1e3)\n",
    "    correct = \"Constant Reaction Coeffs:\"\n",
    "    assert str(rc)[:len(correct)] == correct\n",
    "def test_repr():\n",
    "    rc = ReactionCoeffs('modifiedArrhenius', A = 1e7, E=1e3, T=1e2, b=0.5)\n",
    "    rc1 = eval(repr(rc))\n",
    "    assert rc == rc1\n",
    "def test_insufficient():\n",
    "    rc = ReactionCoeffs('modifiedArrhenius', A = 1e7, E=1e3, b=0.5)\n",
    "    try:\n",
    "        rc.kval()\n",
    "    except ValueError as e:\n",
    "        assert type(e) == ValueError\n",
    "    rc = ReactionCoeffs('Arrhenius', b=0.5)\n",
    "    try:\n",
    "        rc.kval()\n",
    "    except ValueError as e:\n",
    "        assert type(e) == ValueError\n",
    "    rc = ReactionCoeffs('Constant', A = 1e7, E=1e3, b=0.5)\n",
    "    try:\n",
    "        rc.kval()\n",
    "    except ValueError as e:\n",
    "        assert type(e) == ValueError\n",
    "        print(e)\n",
    "\n",
    "def test_not_implement():\n",
    "    try:\n",
    "        rc = ReactionCoeffs('HelloWorld', A = 1e7, E=1e3, b=0.5)\n",
    "    except NotImplementedError as e:\n",
    "        assert type(e) == NotImplementedError\n",
    "        print(e)"
   ]
  },
  {
   "cell_type": "code",
   "execution_count": 3,
   "metadata": {},
   "outputs": [
    {
     "name": "stdout",
     "output_type": "stream",
     "text": [
      "Temprature 750 reaction rates for [H2,O2,OH,HO2,H2O] [-3607077.87280406 -5613545.18362079  9220623.05642485  2006467.31081673\n",
      " -2006467.31081673]\n",
      "Temprature 1500 reaction rates for [H2,O2,OH,HO2,H2O] [ -2.81117621e+08  -2.85597559e+08   5.66715180e+08   4.47993847e+06\n",
      "  -4.47993847e+06]\n",
      "Temprature 2500 reaction rates for [H2,O2,OH,HO2,H2O] [ -1.80426143e+09  -1.81043736e+09   3.61469878e+09   6.17593098e+06\n",
      "  -6.17593098e+06]\n"
     ]
    }
   ],
   "source": [
    "rc_list = [\n",
    "    ReactionCoeffs(type = \"modifiedArrhenius\", A=1e8, b=0.5, E=5e4),\n",
    "    ReactionCoeffs(type = \"Constant\", k=1e4),\n",
    "    ReactionCoeffs(type = \"Arrhenius\", A=1e7, E=1e4),\n",
    "]\n",
    "v1 = np.array([\n",
    "    [2,0,0],\n",
    "    [1,0,1],\n",
    "    [0,1,0],\n",
    "    [0,1,0],\n",
    "    [0,0,1]\n",
    "])\n",
    "v2 = np.array([\n",
    "    [1,0,0],\n",
    "    [0,1,0],\n",
    "    [2,0,1],\n",
    "    [0,0,1],\n",
    "    [0,1,0]\n",
    "])\n",
    "x = np.array([\n",
    "    2,1,0.5,1,1\n",
    "]).reshape(-1,1)\n",
    "reactions1 = chemkin(v1,v2,rc_list)\n",
    "for t in [750,1500,2500]:\n",
    "    reactions1.set_rc_params(T=t)\n",
    "    print(\"Temprature %d reaction rates for [H2,O2,OH,HO2,H2O]\"%t, reactions1.reaction_rate(x))"
   ]
  },
  {
   "cell_type": "code",
   "execution_count": 4,
   "metadata": {
    "collapsed": true
   },
   "outputs": [],
   "source": [
    "a = eval(repr(reactions))"
   ]
  },
  {
   "cell_type": "code",
   "execution_count": 5,
   "metadata": {
    "collapsed": true
   },
   "outputs": [],
   "source": [
    "d = chemkin.init_const_rc(v1,v2,[1e2]*3)"
   ]
  },
  {
   "cell_type": "code",
   "execution_count": 6,
   "metadata": {},
   "outputs": [
    {
     "data": {
      "text/plain": [
       "array([-400., -450.,  850.,   50.,  -50.])"
      ]
     },
     "execution_count": 6,
     "metadata": {},
     "output_type": "execute_result"
    }
   ],
   "source": [
    "d.reaction_rate(x)"
   ]
  },
  {
   "cell_type": "code",
   "execution_count": null,
   "metadata": {
    "collapsed": true
   },
   "outputs": [],
   "source": []
  }
 ],
 "metadata": {
  "kernelspec": {
   "display_name": "Python 3",
   "language": "python",
   "name": "python3"
  },
  "language_info": {
   "codemirror_mode": {
    "name": "ipython",
    "version": 3
   },
   "file_extension": ".py",
   "mimetype": "text/x-python",
   "name": "python",
   "nbconvert_exporter": "python",
   "pygments_lexer": "ipython3",
   "version": "3.6.1"
  }
 },
 "nbformat": 4,
 "nbformat_minor": 2
}
