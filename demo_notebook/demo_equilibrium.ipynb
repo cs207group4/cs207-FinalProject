{
 "cells": [
  {
   "cell_type": "code",
   "execution_count": 97,
   "metadata": {
    "collapsed": true
   },
   "outputs": [],
   "source": [
    "import sys\n",
    "sys.path.append('../')\n",
    "from pychemkin import ChemSolver, chemkin, InputParser, ReactionCoeffs,BackwardCoeffs\n",
    "import numpy as np\n",
    "import time"
   ]
  },
  {
   "cell_type": "code",
   "execution_count": 106,
   "metadata": {},
   "outputs": [
    {
     "name": "stdout",
     "output_type": "stream",
     "text": [
      "Finished reading xml input file\n",
      "  message: 'The solver successfully reached the interval end.'\n",
      "     nfev: 9435\n",
      "     njev: 159\n",
      "      nlu: 159\n",
      "      sol: None\n",
      "   status: 0\n",
      "  success: True\n",
      "        t: array([  0.00000000e+00,   3.15789474e-06,   6.31578947e-06,\n",
      "         9.47368421e-06,   1.26315789e-05,   1.57894737e-05,\n",
      "         1.89473684e-05,   2.21052632e-05,   2.52631579e-05,\n",
      "         2.84210526e-05,   3.15789474e-05,   3.47368421e-05,\n",
      "         3.78947368e-05,   4.10526316e-05,   4.42105263e-05,\n",
      "         4.73684211e-05,   5.05263158e-05,   5.36842105e-05,\n",
      "         5.68421053e-05,   6.00000000e-05])\n",
      " t_events: None\n",
      "        y: array([[  1.00000000e-10,   2.77805305e-10,              nan,\n",
      "                     nan,              nan,              nan,\n",
      "                     nan,              nan,              nan,\n",
      "                     nan,              nan,              nan,\n",
      "                     nan,              nan,              nan,\n",
      "                     nan,              nan,              nan,\n",
      "                     nan,              nan],\n",
      "       [  1.00000000e-10,   2.77805305e-10,              nan,\n",
      "                     nan,              nan,              nan,\n",
      "                     nan,              nan,              nan,\n",
      "                     nan,              nan,              nan,\n",
      "                     nan,              nan,              nan,\n",
      "                     nan,              nan,              nan,\n",
      "                     nan,              nan],\n",
      "       [  1.00000000e-10,  -7.78053051e-11,              nan,\n",
      "                     nan,              nan,              nan,\n",
      "                     nan,              nan,              nan,\n",
      "                     nan,              nan,              nan,\n",
      "                     nan,              nan,              nan,\n",
      "                     nan,              nan,              nan,\n",
      "                     nan,              nan],\n",
      "       [  1.00000000e-10,  -7.78053051e-11,              nan,\n",
      "                     nan,              nan,              nan,\n",
      "                     nan,              nan,              nan,\n",
      "                     nan,              nan,              nan,\n",
      "                     nan,              nan,              nan,\n",
      "                     nan,              nan,              nan,\n",
      "                     nan,              nan]])\n",
      "Using scipy.integrate.ode\n",
      "3.15789474e-06 [  1.68923614e-10   1.68923614e-10   3.10763860e-11   3.10763860e-11]\n",
      "6.31578948e-06 [  1.80149047e-10   1.80149047e-10   1.98509530e-11   1.98509530e-11]\n",
      "9.47368422e-06 [  1.84242662e-10   1.84242662e-10   1.57573384e-11   1.57573384e-11]\n",
      "1.263157896e-05 [  1.86098221e-10   1.86098221e-10   1.39017792e-11   1.39017792e-11]\n",
      "1.57894737e-05 [  1.87038096e-10   1.87038096e-10   1.29619037e-11   1.29619037e-11]\n",
      "1.894736844e-05 [  1.87529210e-10   1.87529210e-10   1.24707897e-11   1.24707897e-11]\n",
      "2.210526318e-05 [  1.87798164e-10   1.87798164e-10   1.22018358e-11   1.22018358e-11]\n",
      "2.526315792e-05 [  1.87945099e-10   1.87945099e-10   1.20549006e-11   1.20549006e-11]\n",
      "2.842105266e-05 [  1.88026492e-10   1.88026492e-10   1.19735084e-11   1.19735084e-11]\n",
      "3.15789474e-05 [  1.88072523e-10   1.88072523e-10   1.19274772e-11   1.19274772e-11]\n",
      "3.473684214e-05 [  1.88098352e-10   1.88098352e-10   1.19016482e-11   1.19016482e-11]\n",
      "3.789473688e-05 [  1.88125725e-10   1.88125725e-10   1.18742751e-11   1.18742751e-11]\n",
      "4.1052631619999995e-05 [  1.88146322e-10   1.88146322e-10   1.18536784e-11   1.18536784e-11]\n",
      "4.421052635999999e-05 [  1.88158711e-10   1.88158711e-10   1.18412891e-11   1.18412891e-11]\n",
      "4.736842109999999e-05 [  1.88162893e-10   1.88162893e-10   1.18371072e-11   1.18371072e-11]\n",
      "5.0526315839999984e-05 [  1.88158867e-10   1.88158867e-10   1.18411328e-11   1.18411328e-11]\n",
      "5.368421057999998e-05 [  1.88154594e-10   1.88154594e-10   1.18454060e-11   1.18454060e-11]\n",
      "5.684210531999998e-05 [  1.88156648e-10   1.88156648e-10   1.18433524e-11   1.18433524e-11]\n",
      "6.000000005999997e-05 [  1.88156623e-10   1.88156623e-10   1.18433766e-11   1.18433766e-11]\n"
     ]
    },
    {
     "name": "stderr",
     "output_type": "stream",
     "text": [
      "../pychemkin/chemkin.py:146: RuntimeWarning: overflow encountered in multiply\n",
      "  pr[self.reversible] = pr[self.reversible] -  kb * np.product(x ** self.nu_prod[:, self.reversible], axis=0)\n",
      "../pychemkin/chemkin.py:146: RuntimeWarning: invalid value encountered in subtract\n",
      "  pr[self.reversible] = pr[self.reversible] -  kb * np.product(x ** self.nu_prod[:, self.reversible], axis=0)\n"
     ]
    }
   ],
   "source": [
    "from scipy.integrate import solve_ivp, ode\n",
    "x_init = np.ones(4)*1.e-10\n",
    "T = 1000\n",
    "chem = chemkin(\"../tests/test_xml/rxns_singlereversible.xml\")\n",
    "cs = ChemSolver(chem)\n",
    "_,cs.kf,cs.kb = cs.chem._progress_rate_init(x_init,T)\n",
    "cs.nu_diff_matrix = cs.chem.nu_prod-cs.chem.nu_react\n",
    "print(solve_ivp(cs._ChemSolver__dy_dt, \n",
    "          t_span=(0, 6e-5), \n",
    "          y0=x_init, \n",
    "          t_eval=np.linspace(0,6e-5,20), method = 'LSODA'))\n",
    "\n",
    "print(\"Using scipy.integrate.ode\")\n",
    "\n",
    "r = ode(cs._ChemSolver__dy_dt).set_integrator('lsoda')\n",
    "r.set_initial_value(x_init,0)\n",
    "t1 = 6.0e-5\n",
    "dt = 3.15789474e-06\n",
    "while r.successful() and r.t <= t1:\n",
    "    print(r.t+dt, r.integrate(r.t+dt))"
   ]
  },
  {
   "cell_type": "code",
   "execution_count": 107,
   "metadata": {},
   "outputs": [
    {
     "name": "stdout",
     "output_type": "stream",
     "text": [
      "Finished reading xml input file\n",
      "  message: 'The solver successfully reached the interval end.'\n",
      "     nfev: 44\n",
      "     njev: 1\n",
      "      nlu: 1\n",
      "      sol: None\n",
      "   status: 0\n",
      "  success: True\n",
      "        t: array([  0.00000000e+00,   3.68421053e-06,   7.36842105e-06,\n",
      "         1.10526316e-05,   1.47368421e-05,   1.84210526e-05,\n",
      "         2.21052632e-05,   2.57894737e-05,   2.94736842e-05,\n",
      "         3.31578947e-05,   3.68421053e-05,   4.05263158e-05,\n",
      "         4.42105263e-05,   4.78947368e-05,   5.15789474e-05,\n",
      "         5.52631579e-05,   5.89473684e-05,   6.26315789e-05,\n",
      "         6.63157895e-05,   7.00000000e-05])\n",
      " t_events: None\n",
      "        y: array([[  1.00000000e-10,   1.46963082e-10,   1.84251428e-10,\n",
      "          1.87352333e-10,   1.87836997e-10,   1.88003475e-10,\n",
      "          1.88069885e-10,   1.88095959e-10,   1.88113270e-10,\n",
      "          1.88122803e-10,   1.88127346e-10,   1.88129650e-10,\n",
      "          1.88130882e-10,   1.88131525e-10,   1.88131854e-10,\n",
      "          1.88132024e-10,   1.88132143e-10,   1.88132311e-10,\n",
      "          1.88132472e-10,   1.88132628e-10],\n",
      "       [  1.00000000e-10,   1.46963082e-10,   1.84251428e-10,\n",
      "          1.87352333e-10,   1.87836997e-10,   1.88003475e-10,\n",
      "          1.88069885e-10,   1.88095959e-10,   1.88113270e-10,\n",
      "          1.88122803e-10,   1.88127346e-10,   1.88129650e-10,\n",
      "          1.88130882e-10,   1.88131525e-10,   1.88131854e-10,\n",
      "          1.88132024e-10,   1.88132143e-10,   1.88132311e-10,\n",
      "          1.88132472e-10,   1.88132628e-10],\n",
      "       [  1.00000000e-10,   5.30369180e-11,   1.57485716e-11,\n",
      "          1.26476673e-11,   1.21630028e-11,   1.19965255e-11,\n",
      "          1.19301145e-11,   1.19040415e-11,   1.18867303e-11,\n",
      "          1.18771969e-11,   1.18726539e-11,   1.18703499e-11,\n",
      "          1.18691180e-11,   1.18684748e-11,   1.18681462e-11,\n",
      "          1.18679764e-11,   1.18678567e-11,   1.18676893e-11,\n",
      "          1.18675279e-11,   1.18673724e-11],\n",
      "       [  1.00000000e-10,   5.30369180e-11,   1.57485716e-11,\n",
      "          1.26476673e-11,   1.21630028e-11,   1.19965255e-11,\n",
      "          1.19301145e-11,   1.19040415e-11,   1.18867303e-11,\n",
      "          1.18771969e-11,   1.18726539e-11,   1.18703499e-11,\n",
      "          1.18691180e-11,   1.18684748e-11,   1.18681462e-11,\n",
      "          1.18679764e-11,   1.18678567e-11,   1.18676893e-11,\n",
      "          1.18675279e-11,   1.18673724e-11]])\n",
      "Using scipy.integrate.ode\n",
      "3.15789474e-06 [  1.68923614e-10   1.68923614e-10   3.10763860e-11   3.10763860e-11]\n",
      "6.31578948e-06 [  1.80149047e-10   1.80149047e-10   1.98509530e-11   1.98509530e-11]\n",
      "9.47368422e-06 [  1.84242662e-10   1.84242662e-10   1.57573384e-11   1.57573384e-11]\n",
      "1.263157896e-05 [  1.86098221e-10   1.86098221e-10   1.39017792e-11   1.39017792e-11]\n",
      "1.57894737e-05 [  1.87038096e-10   1.87038096e-10   1.29619037e-11   1.29619037e-11]\n",
      "1.894736844e-05 [  1.87529210e-10   1.87529210e-10   1.24707897e-11   1.24707897e-11]\n",
      "2.210526318e-05 [  1.87798164e-10   1.87798164e-10   1.22018358e-11   1.22018358e-11]\n",
      "2.526315792e-05 [  1.87945099e-10   1.87945099e-10   1.20549006e-11   1.20549006e-11]\n",
      "2.842105266e-05 [  1.88026492e-10   1.88026492e-10   1.19735084e-11   1.19735084e-11]\n",
      "3.15789474e-05 [  1.88072523e-10   1.88072523e-10   1.19274772e-11   1.19274772e-11]\n",
      "3.473684214e-05 [  1.88098352e-10   1.88098352e-10   1.19016482e-11   1.19016482e-11]\n",
      "3.789473688e-05 [  1.88125725e-10   1.88125725e-10   1.18742751e-11   1.18742751e-11]\n",
      "4.1052631619999995e-05 [  1.88146322e-10   1.88146322e-10   1.18536784e-11   1.18536784e-11]\n",
      "4.421052635999999e-05 [  1.88158711e-10   1.88158711e-10   1.18412891e-11   1.18412891e-11]\n",
      "4.736842109999999e-05 [  1.88162893e-10   1.88162893e-10   1.18371072e-11   1.18371072e-11]\n",
      "5.0526315839999984e-05 [  1.88158867e-10   1.88158867e-10   1.18411328e-11   1.18411328e-11]\n",
      "5.368421057999998e-05 [  1.88154594e-10   1.88154594e-10   1.18454060e-11   1.18454060e-11]\n",
      "5.684210531999998e-05 [  1.88156648e-10   1.88156648e-10   1.18433524e-11   1.18433524e-11]\n",
      "6.000000005999997e-05 [  1.88156623e-10   1.88156623e-10   1.18433766e-11   1.18433766e-11]\n",
      "6.315789479999997e-05 [  1.88154521e-10   1.88154521e-10   1.18454787e-11   1.18454787e-11]\n",
      "6.631578953999997e-05 [  1.88150341e-10   1.88150341e-10   1.18496585e-11   1.18496585e-11]\n",
      "6.947368427999996e-05 [  1.88144084e-10   1.88144084e-10   1.18559162e-11   1.18559162e-11]\n",
      "7.263157901999996e-05 [  1.88142367e-10   1.88142367e-10   1.18576335e-11   1.18576335e-11]\n"
     ]
    }
   ],
   "source": [
    "from scipy.integrate import solve_ivp, ode\n",
    "x_init = np.ones(4)*1.e-10\n",
    "T = 1000\n",
    "chem = chemkin(\"../tests/test_xml/rxns_singlereversible.xml\")\n",
    "cs = ChemSolver(chem)\n",
    "_,cs.kf,cs.kb = cs.chem._progress_rate_init(x_init,T)\n",
    "cs.nu_diff_matrix = cs.chem.nu_prod-cs.chem.nu_react\n",
    "print(solve_ivp(cs._ChemSolver__dy_dt, \n",
    "          t_span=(0, 7e-5), \n",
    "          y0=x_init, \n",
    "          t_eval=np.linspace(0,7e-5,20), method = 'LSODA'))\n",
    "\n",
    "print(\"Using scipy.integrate.ode\")\n",
    "\n",
    "r = ode(cs._ChemSolver__dy_dt).set_integrator('lsoda')\n",
    "r.set_initial_value(x_init,0)\n",
    "t1 = 7.0e-5\n",
    "dt = 3.15789474e-06\n",
    "while r.successful() and r.t <= t1:\n",
    "    print(r.t+dt, r.integrate(r.t+dt))"
   ]
  },
  {
   "cell_type": "code",
   "execution_count": 108,
   "metadata": {},
   "outputs": [
    {
     "name": "stdout",
     "output_type": "stream",
     "text": [
      "Finished reading xml input file\n"
     ]
    },
    {
     "data": {
      "text/plain": [
       "array([  1.88132208e-10,   1.88132208e-10,   1.18677920e-11,\n",
       "         1.18677920e-11])"
      ]
     },
     "execution_count": 108,
     "metadata": {},
     "output_type": "execute_result"
    }
   ],
   "source": [
    "def get_equilibrium_conc(x_init, T):\n",
    "    file_name = \"../tests/test_xml/rxns_singlereversible.xml\"\n",
    "    input_ = InputParser(file_name)\n",
    "    rc_list = [ReactionCoeffs(**params) for params in input_.rate_coeff_params]\n",
    "    rc_list[0].set_params(T=T)\n",
    "    kf = rc_list[0].k_forward()\n",
    "    bc = BackwardCoeffs(input_.nu_react, input_.nu_prod,input_.species)\n",
    "    kb = bc.backward_coeffs(np.array([kf]), T)[0]\n",
    "    k_eq = kf/kb\n",
    "    A = (1-k_eq)\n",
    "    B = x_init[2]+x_init[3]+k_eq*(x_init[0]+x_init[1])\n",
    "    C = x_init[2]*x_init[3]-k_eq*x_init[0]*x_init[1]\n",
    "    deltax =  (-B+np.sqrt(B**2-4*A*C))/(2*A)\n",
    "    return np.array([x_init[0]-deltax,x_init[1]-deltax,x_init[2]+deltax,x_init[3]+deltax])\n",
    "    \n",
    "get_equilibrium_conc(x_init, T)"
   ]
  },
  {
   "cell_type": "code",
   "execution_count": null,
   "metadata": {
    "collapsed": true
   },
   "outputs": [],
   "source": []
  }
 ],
 "metadata": {
  "kernelspec": {
   "display_name": "Python 3",
   "language": "python",
   "name": "python3"
  },
  "language_info": {
   "codemirror_mode": {
    "name": "ipython",
    "version": 3
   },
   "file_extension": ".py",
   "mimetype": "text/x-python",
   "name": "python",
   "nbconvert_exporter": "python",
   "pygments_lexer": "ipython3",
   "version": "3.6.1"
  }
 },
 "nbformat": 4,
 "nbformat_minor": 2
}
