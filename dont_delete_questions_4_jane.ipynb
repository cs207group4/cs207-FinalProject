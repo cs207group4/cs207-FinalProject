{
 "cells": [
  {
   "cell_type": "code",
   "execution_count": 1,
   "metadata": {},
   "outputs": [
    {
     "name": "stdout",
     "output_type": "stream",
     "text": [
      "Finished reading xml input file\n"
     ]
    }
   ],
   "source": [
    "from chemkin import *\n",
    "reactions = chemkin.from_xml('rxns.xml')"
   ]
  },
  {
   "cell_type": "code",
   "execution_count": 2,
   "metadata": {
    "collapsed": true
   },
   "outputs": [],
   "source": [
    "#decide what temp\n",
    "reactions.set_rc_params(T=1000)"
   ]
  },
  {
   "cell_type": "code",
   "execution_count": 3,
   "metadata": {},
   "outputs": [
    {
     "name": "stdout",
     "output_type": "stream",
     "text": [
      "chemical equations:\n",
      "[\n",
      "H + O2 =] OH + O\n",
      "H2 + O =] OH + H\n",
      "H2 + OH =] H2O + H\n",
      "]\n",
      "species: ['H', 'O', 'OH', 'H2', 'H2O', 'O2']\n",
      "nu_react:\n",
      "[[ 1.  0.  0.]\n",
      " [ 0.  1.  0.]\n",
      " [ 0.  0.  1.]\n",
      " [ 0.  1.  1.]\n",
      " [ 0.  0.  0.]\n",
      " [ 1.  0.  0.]]\n",
      "nu_prod:\n",
      "[[ 0.  1.  1.]\n",
      " [ 1.  0.  0.]\n",
      " [ 1.  1.  0.]\n",
      " [ 0.  0.  0.]\n",
      " [ 0.  0.  1.]\n",
      " [ 0.  0.  0.]]\n",
      "reaction coefficients:\n",
      "[\n",
      "Arrhenius Reaction Coeffs: {'A': 35200000000.0, 'E': 71400.0, 'R': 8.314, 'T': 1000}\n",
      "modifiedArrhenius Reaction Coeffs: {'A': 0.0506, 'b': 2.7, 'E': 26300.0, 'R': 8.314, 'T': 1000}\n",
      "Constant Reaction Coeffs: {'k': 1000.0, 'R': 8.314, 'T': 1000}\n",
      "]\n"
     ]
    }
   ],
   "source": [
    "print(reactions)\n",
    "## our code labels everything for access later\n",
    "\n",
    "len(reactions) # number of reactions"
   ]
  },
  {
   "cell_type": "code",
   "execution_count": null,
   "metadata": {
    "collapsed": true
   },
   "outputs": [],
   "source": []
  }
 ],
 "metadata": {
  "kernelspec": {
   "display_name": "Python 3",
   "language": "python",
   "name": "python3"
  },
  "language_info": {
   "codemirror_mode": {
    "name": "ipython",
    "version": 3
   },
   "file_extension": ".py",
   "mimetype": "text/x-python",
   "name": "python",
   "nbconvert_exporter": "python",
   "pygments_lexer": "ipython3",
   "version": "3.6.1"
  }
 },
 "nbformat": 4,
 "nbformat_minor": 2
}
