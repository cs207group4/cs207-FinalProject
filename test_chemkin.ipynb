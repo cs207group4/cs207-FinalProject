{
 "cells": [
  {
   "cell_type": "code",
   "execution_count": 2,
   "metadata": {},
   "outputs": [
    {
     "ename": "IndentationError",
     "evalue": "unindent does not match any outer indentation level (chemkin.py, line 36)",
     "output_type": "error",
     "traceback": [
      "\u001b[0;36m  File \u001b[0;32m\"/Users/kimia/Desktop/CS207/cs207-FinalProject/chemkin.py\"\u001b[0;36m, line \u001b[0;32m36\u001b[0m\n\u001b[0;31m    self.file_name = file_name\u001b[0m\n\u001b[0m                              ^\u001b[0m\n\u001b[0;31mIndentationError\u001b[0m\u001b[0;31m:\u001b[0m unindent does not match any outer indentation level\n"
     ]
    }
   ],
   "source": [
    "from chemkin import *\n",
    "reactions = chemkin.from_xml('rxns.xml')"
   ]
  },
  {
   "cell_type": "code",
   "execution_count": 3,
   "metadata": {},
   "outputs": [
    {
     "ename": "NameError",
     "evalue": "name 'reactions' is not defined",
     "output_type": "error",
     "traceback": [
      "\u001b[0;31m---------------------------------------------------------------------------\u001b[0m",
      "\u001b[0;31mNameError\u001b[0m                                 Traceback (most recent call last)",
      "\u001b[0;32m<ipython-input-3-6266ad3b4749>\u001b[0m in \u001b[0;36m<module>\u001b[0;34m()\u001b[0m\n\u001b[0;32m----> 1\u001b[0;31m \u001b[0mreactions\u001b[0m\u001b[0;34m.\u001b[0m\u001b[0mset_rc_params\u001b[0m\u001b[0;34m(\u001b[0m\u001b[0mT\u001b[0m\u001b[0;34m=\u001b[0m\u001b[0;36m1000\u001b[0m\u001b[0;34m)\u001b[0m\u001b[0;34m\u001b[0m\u001b[0m\n\u001b[0m\u001b[1;32m      2\u001b[0m \u001b[0mreactions\u001b[0m\u001b[0;34m.\u001b[0m\u001b[0mreaction_rate\u001b[0m\u001b[0;34m(\u001b[0m\u001b[0;34m[\u001b[0m\u001b[0;34m[\u001b[0m\u001b[0;36m1\u001b[0m\u001b[0;34m]\u001b[0m\u001b[0;34m,\u001b[0m\u001b[0;34m[\u001b[0m\u001b[0;36m1\u001b[0m\u001b[0;34m]\u001b[0m\u001b[0;34m,\u001b[0m\u001b[0;34m[\u001b[0m\u001b[0;36m1\u001b[0m\u001b[0;34m]\u001b[0m\u001b[0;34m,\u001b[0m\u001b[0;34m[\u001b[0m\u001b[0;36m1\u001b[0m\u001b[0;34m]\u001b[0m\u001b[0;34m,\u001b[0m\u001b[0;34m[\u001b[0m\u001b[0;36m1\u001b[0m\u001b[0;34m]\u001b[0m\u001b[0;34m,\u001b[0m\u001b[0;34m[\u001b[0m\u001b[0;36m1\u001b[0m\u001b[0;34m]\u001b[0m\u001b[0;34m]\u001b[0m\u001b[0;34m)\u001b[0m\u001b[0;34m\u001b[0m\u001b[0m\n",
      "\u001b[0;31mNameError\u001b[0m: name 'reactions' is not defined"
     ]
    }
   ],
   "source": [
    "reactions.set_rc_params(T=1000)\n",
    "reactions.reaction_rate([[1],[1],[1],[1],[1],[1]])"
   ]
  },
  {
   "cell_type": "code",
   "execution_count": 3,
   "metadata": {},
   "outputs": [
    {
     "name": "stdout",
     "output_type": "stream",
     "text": [
      "Temprature 750 reaction rates for [H2,O2,OH,HO2,H2O] [-3607077.87280406 -5613545.18362079  9220623.05642485  2006467.31081673\n",
      " -2006467.31081673]\n",
      "Temprature 1500 reaction rates for [H2,O2,OH,HO2,H2O] [ -2.81117621e+08  -2.85597559e+08   5.66715180e+08   4.47993847e+06\n",
      "  -4.47993847e+06]\n",
      "Temprature 2500 reaction rates for [H2,O2,OH,HO2,H2O] [ -1.80426143e+09  -1.81043736e+09   3.61469878e+09   6.17593098e+06\n",
      "  -6.17593098e+06]\n"
     ]
    }
   ],
   "source": [
    "rc_list = [\n",
    "    ReactionCoeffs(type = \"modifiedArrhenius\", A=1e8, b=0.5, E=5e4),\n",
    "    ReactionCoeffs(type = \"Constant\", k=1e4),\n",
    "    ReactionCoeffs(type = \"Arrhenius\", A=1e7, E=1e4),\n",
    "]\n",
    "v1 = np.array([\n",
    "    [2,0,0],\n",
    "    [1,0,1],\n",
    "    [0,1,0],\n",
    "    [0,1,0],\n",
    "    [0,0,1]\n",
    "])\n",
    "v2 = np.array([\n",
    "    [1,0,0],\n",
    "    [0,1,0],\n",
    "    [2,0,1],\n",
    "    [0,0,1],\n",
    "    [0,1,0]\n",
    "])\n",
    "x = np.array([\n",
    "    2,1,0.5,1,1\n",
    "]).reshape(-1,1)\n",
    "reactions1 = chemkin(v1,v2,rc_list)\n",
    "for t in [750,1500,2500]:\n",
    "    reactions1.set_rc_params(T=t)\n",
    "    print(\"Temprature %d reaction rates for [H2,O2,OH,HO2,H2O]\"%t, reactions1.reaction_rate(x))"
   ]
  },
  {
   "cell_type": "code",
   "execution_count": 4,
   "metadata": {
    "collapsed": true
   },
   "outputs": [],
   "source": [
    "a = eval(repr(reactions))"
   ]
  },
  {
   "cell_type": "code",
   "execution_count": 5,
   "metadata": {
    "collapsed": true
   },
   "outputs": [],
   "source": [
    "d = chemkin.init_const_rc(v1,v2,[1e2]*3)"
   ]
  },
  {
   "cell_type": "code",
   "execution_count": 6,
   "metadata": {},
   "outputs": [
    {
     "data": {
      "text/plain": [
       "array([-400., -450.,  850.,   50.,  -50.])"
      ]
     },
     "execution_count": 6,
     "metadata": {},
     "output_type": "execute_result"
    }
   ],
   "source": [
    "d.reaction_rate(x)"
   ]
  },
  {
   "cell_type": "code",
   "execution_count": 1,
   "metadata": {},
   "outputs": [
    {
     "ename": "NameError",
     "evalue": "name 'chemkin' is not defined",
     "output_type": "error",
     "traceback": [
      "\u001b[0;31m---------------------------------------------------------------------------\u001b[0m",
      "\u001b[0;31mNameError\u001b[0m                                 Traceback (most recent call last)",
      "\u001b[0;32m<ipython-input-1-9245000a4405>\u001b[0m in \u001b[0;36m<module>\u001b[0;34m()\u001b[0m\n\u001b[0;32m----> 1\u001b[0;31m d = chemkin.init_const_rc(np.array([\n\u001b[0m\u001b[1;32m      2\u001b[0m     \u001b[0;34m[\u001b[0m\u001b[0;36m2\u001b[0m\u001b[0;34m,\u001b[0m\u001b[0;36m0\u001b[0m\u001b[0;34m,\u001b[0m\u001b[0;36m0\u001b[0m\u001b[0;34m]\u001b[0m\u001b[0;34m,\u001b[0m\u001b[0;34m\u001b[0m\u001b[0m\n\u001b[1;32m      3\u001b[0m     \u001b[0;34m[\u001b[0m\u001b[0;36m1\u001b[0m\u001b[0;34m,\u001b[0m\u001b[0;36m0\u001b[0m\u001b[0;34m,\u001b[0m\u001b[0;36m1\u001b[0m\u001b[0;34m]\u001b[0m\u001b[0;34m,\u001b[0m\u001b[0;34m\u001b[0m\u001b[0m\n\u001b[1;32m      4\u001b[0m     \u001b[0;34m[\u001b[0m\u001b[0;36m0\u001b[0m\u001b[0;34m,\u001b[0m\u001b[0;36m1\u001b[0m\u001b[0;34m,\u001b[0m\u001b[0;36m0\u001b[0m\u001b[0;34m]\u001b[0m\u001b[0;34m,\u001b[0m\u001b[0;34m\u001b[0m\u001b[0m\n\u001b[1;32m      5\u001b[0m     \u001b[0;34m[\u001b[0m\u001b[0;36m0\u001b[0m\u001b[0;34m,\u001b[0m\u001b[0;36m1\u001b[0m\u001b[0;34m,\u001b[0m\u001b[0;36m0\u001b[0m\u001b[0;34m]\u001b[0m\u001b[0;34m,\u001b[0m\u001b[0;34m\u001b[0m\u001b[0m\n",
      "\u001b[0;31mNameError\u001b[0m: name 'chemkin' is not defined"
     ]
    }
   ],
   "source": [
    "d = chemkin.init_const_rc(np.array([\n",
    "    [2,0,0],\n",
    "    [1,0,1],\n",
    "    [0,1,0],\n",
    "    [0,1,0],\n",
    "    [0,0,1]\n",
    "]),np.array([\n",
    "    [1,0,0],\n",
    "    [0,1,0],\n",
    "    [2,0,1],\n",
    "    [0,0,1],\n",
    "    [0,1,0]\n",
    "]),[1e2]*3)\n",
    "d.reaction_rate(x)"
   ]
  },
  {
   "cell_type": "code",
   "execution_count": null,
   "metadata": {
    "collapsed": true
   },
   "outputs": [],
   "source": []
  }
 ],
 "metadata": {
  "kernelspec": {
   "display_name": "Python 3",
   "language": "python",
   "name": "python3"
  },
  "language_info": {
   "codemirror_mode": {
    "name": "ipython",
    "version": 3
   },
   "file_extension": ".py",
   "mimetype": "text/x-python",
   "name": "python",
   "nbconvert_exporter": "python",
   "pygments_lexer": "ipython3",
   "version": "3.6.1"
  }
 },
 "nbformat": 4,
 "nbformat_minor": 2
}
