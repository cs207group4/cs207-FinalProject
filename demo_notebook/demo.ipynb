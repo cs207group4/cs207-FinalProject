{
 "cells": [
  {
   "cell_type": "markdown",
   "metadata": {
    "slideshow": {
     "slide_type": "slide"
    }
   },
   "source": [
    "# CS207 Final Project Presentation - Group 4"
   ]
  },
  {
   "cell_type": "markdown",
   "metadata": {
    "slideshow": {
     "slide_type": "slide"
    }
   },
   "source": [
    "## Library installation\n",
    "\n",
    "It's super easy to install our library. Just one-line pip command:\n",
    "```bash\n",
    "pip install pychemkin\n",
    "\n",
    "```\n",
    "\n",
    "If you want to run tests, do the following:\n",
    "```bash\n",
    "\n",
    "git clone https://github.com/cs207group4/cs207-FinalProject.git\n",
    "\n",
    "cd cs207-FinalProject\n",
    "\n",
    "python setup.py test\n",
    "\n",
    "```"
   ]
  },
  {
   "cell_type": "markdown",
   "metadata": {
    "slideshow": {
     "slide_type": "slide"
    }
   },
   "source": [
    "## Basic Requirements\n",
    "\n",
    "The basic requirements are implemented same as in milestone 1 and 2. Except that we are using a bigger NASA database now. The following example uses an xml file containing irreversible reactions, reversible reactions and new NASA species.\n",
    "\n",
    "Our `chemkin` class can handle three different types of reaction coefficients, irreversible reactions and reversible reactions with species specified in NASA database."
   ]
  },
  {
   "cell_type": "code",
   "execution_count": 1,
   "metadata": {
    "slideshow": {
     "slide_type": "subslide"
    }
   },
   "outputs": [
    {
     "name": "stdout",
     "output_type": "stream",
     "text": [
      "Finished reading xml input file\n",
      "chemical equations:\n",
      "[\n",
      "C + H [=] CH\n",
      "CH + CH3 + CH3 [=] C3H7\n",
      "OH + OH =] HO2 + H\n",
      "CH3 =] H + H + CH\n",
      "O2 + CH =] HO2 + C\n",
      "]\n",
      "species: ['H', 'OH', 'O2', 'HO2', 'C', 'CH', 'CH3', 'C3H7']\n",
      "reversible: [ True  True False False False]\n"
     ]
    }
   ],
   "source": [
    "import numpy as np\n",
    "from pychemkin import chemkin, ChemSolver, ChemViz, simpleIO\n",
    "rxnsystem = chemkin('demo_xml/demo.xml')\n",
    "\n",
    "print(rxnsystem.summary())"
   ]
  },
  {
   "cell_type": "code",
   "execution_count": 2,
   "metadata": {
    "slideshow": {
     "slide_type": "subslide"
    }
   },
   "outputs": [
    {
     "name": "stdout",
     "output_type": "stream",
     "text": [
      "Progress rates\n",
      "[  1.81881759e+12   1.52699256e+14   1.02542530e+13   1.55398795e+13\n",
      "   6.91351212e+13]\n",
      "Reaction rates\n",
      "[  3.95151944e+13  -2.05085060e+13  -6.91351212e+13   7.93893742e+13\n",
      "   6.73163036e+13  -2.04475681e+14  -3.20938392e+14   1.52699256e+14]\n"
     ]
    }
   ],
   "source": [
    "T = 1500 #temperature in K\n",
    "x = np.ones(8)\n",
    "print(\"Progress rates\")\n",
    "print(rxnsystem.progress_rate(x,T))\n",
    "print(\"Reaction rates\")\n",
    "print(rxnsystem.reaction_rate(x,T))"
   ]
  },
  {
   "cell_type": "markdown",
   "metadata": {
    "slideshow": {
     "slide_type": "slide"
    }
   },
   "source": [
    "## Chemkin Solver\n",
    "\n",
    "We implemented a `ChemSolver` class that ...(insert presentation scripts here...)"
   ]
  },
  {
   "cell_type": "code",
   "execution_count": 3,
   "metadata": {
    "slideshow": {
     "slide_type": "subslide"
    }
   },
   "outputs": [
    {
     "name": "stdout",
     "output_type": "stream",
     "text": [
      "Finished reading xml input file\n"
     ]
    }
   ],
   "source": [
    "# Solve an ODE\n",
    "x_init = np.ones(8)\n",
    "T = 1000\n",
    "\n",
    "# integration end time\n",
    "t_max = 5.e-13\n",
    "\n",
    "# step size\n",
    "dt = 1.e-16\n",
    "\n",
    "cs = ChemSolver(chemkin('demo_xml/demo.xml')).solve(x_init, T, t_max, dt)"
   ]
  },
  {
   "cell_type": "code",
   "execution_count": 4,
   "metadata": {
    "slideshow": {
     "slide_type": "subslide"
    }
   },
   "outputs": [
    {
     "data": {
      "text/plain": [
       "(array([  0.00000000e+00,   1.00000000e-16,   2.00000000e-16, ...,\n",
       "          4.99700000e-13,   4.99800000e-13,   4.99900000e-13]),\n",
       " array([[  1.00000000e+00,   1.00325822e+00,   1.00647891e+00, ...,\n",
       "           8.26670028e-01,   8.26579041e-01,   8.26488078e-01],\n",
       "        [  1.00000000e+00,   9.99031963e-01,   9.98065799e-01, ...,\n",
       "           1.71175230e-01,   1.71146842e-01,   1.71118465e-01],\n",
       "        [  1.00000000e+00,   9.93225497e-01,   9.86564355e-01, ...,\n",
       "          -5.39377464e-14,  -5.49187615e-14,  -5.59179299e-14],\n",
       "        ..., \n",
       "        [  1.00000000e+00,   9.89862168e-01,   9.79988834e-01, ...,\n",
       "           1.51668627e+00,   1.51679196e+00,   1.51689762e+00],\n",
       "        [  1.00000000e+00,   9.88358351e-01,   9.77066515e-01, ...,\n",
       "           1.12134402e-04,   1.11965734e-04,   1.11797319e-04],\n",
       "        [  1.00000000e+00,   1.00507344e+00,   1.00998060e+00, ...,\n",
       "           1.29581710e+00,   1.29581710e+00,   1.29581710e+00]]),\n",
       " array([[  3.27729812e+13,   3.23924469e+13,   3.20226980e+13, ...,\n",
       "          -9.10004133e+11,  -9.09753230e+11,  -9.09502423e+11],\n",
       "        [ -9.68974751e+12,  -9.67099653e+12,  -9.65229992e+12, ...,\n",
       "          -2.83918897e+11,  -2.83824736e+11,  -2.83730622e+11],\n",
       "        [ -6.83222464e+13,  -6.71714499e+13,  -6.60554544e+13, ...,\n",
       "           5.58921338e+00,   5.69126607e+00,   5.79521417e+00],\n",
       "        ..., \n",
       "        [ -1.02735386e+14,  -1.00033398e+14,  -9.74466766e+13, ...,\n",
       "           1.05702058e+12,   1.05671499e+12,   1.05640954e+12],\n",
       "        [ -1.18218456e+14,  -1.14633125e+14,  -1.11224027e+14, ...,\n",
       "          -1.68796287e+09,  -1.68542107e+09,  -1.68288311e+09],\n",
       "        [  5.15914857e+13,   4.98863389e+13,   4.82666794e+13, ...,\n",
       "           9.83901302e+05,   9.81011983e+05,   9.78131127e+05]]))"
      ]
     },
     "execution_count": 4,
     "metadata": {},
     "output_type": "execute_result"
    }
   ],
   "source": [
    "# what's the result like - returns (time, concentration, reaction_rate)\n",
    "cs.get_results()"
   ]
  },
  {
   "cell_type": "code",
   "execution_count": 5,
   "metadata": {
    "slideshow": {
     "slide_type": "subslide"
    }
   },
   "outputs": [
    {
     "data": {
      "text/html": [
       "<div>\n",
       "<style scoped>\n",
       "    .dataframe tbody tr th:only-of-type {\n",
       "        vertical-align: middle;\n",
       "    }\n",
       "\n",
       "    .dataframe tbody tr th {\n",
       "        vertical-align: top;\n",
       "    }\n",
       "\n",
       "    .dataframe thead th {\n",
       "        text-align: right;\n",
       "    }\n",
       "</style>\n",
       "<table border=\"1\" class=\"dataframe\">\n",
       "  <thead>\n",
       "    <tr style=\"text-align: right;\">\n",
       "      <th></th>\n",
       "      <th>t</th>\n",
       "      <th>H-Concentration</th>\n",
       "      <th>OH-Concentration</th>\n",
       "      <th>O2-Concentration</th>\n",
       "      <th>HO2-Concentration</th>\n",
       "      <th>C-Concentration</th>\n",
       "      <th>CH-Concentration</th>\n",
       "      <th>CH3-Concentration</th>\n",
       "      <th>C3H7-Concentration</th>\n",
       "      <th>H-Reaction_rate</th>\n",
       "      <th>OH-Reaction_rate</th>\n",
       "      <th>O2-Reaction_rate</th>\n",
       "      <th>HO2-Reaction_rate</th>\n",
       "      <th>C-Reaction_rate</th>\n",
       "      <th>CH-Reaction_rate</th>\n",
       "      <th>CH3-Reaction_rate</th>\n",
       "      <th>C3H7-Reaction_rate</th>\n",
       "      <th>T</th>\n",
       "    </tr>\n",
       "  </thead>\n",
       "  <tbody>\n",
       "    <tr>\n",
       "      <th>0</th>\n",
       "      <td>0.000000e+00</td>\n",
       "      <td>1.000000</td>\n",
       "      <td>1.000000</td>\n",
       "      <td>1.000000</td>\n",
       "      <td>1.000000</td>\n",
       "      <td>1.000000</td>\n",
       "      <td>1.000000</td>\n",
       "      <td>1.000000</td>\n",
       "      <td>1.000000</td>\n",
       "      <td>3.277298e+13</td>\n",
       "      <td>-9.689748e+12</td>\n",
       "      <td>-6.832225e+13</td>\n",
       "      <td>7.316712e+13</td>\n",
       "      <td>6.617938e+13</td>\n",
       "      <td>-1.027354e+14</td>\n",
       "      <td>-1.182185e+14</td>\n",
       "      <td>5.159149e+13</td>\n",
       "      <td>1000.0</td>\n",
       "    </tr>\n",
       "    <tr>\n",
       "      <th>1</th>\n",
       "      <td>1.000000e-16</td>\n",
       "      <td>1.003258</td>\n",
       "      <td>0.999032</td>\n",
       "      <td>0.993225</td>\n",
       "      <td>1.007259</td>\n",
       "      <td>1.006559</td>\n",
       "      <td>0.989862</td>\n",
       "      <td>0.988358</td>\n",
       "      <td>1.005073</td>\n",
       "      <td>3.239245e+13</td>\n",
       "      <td>-9.670997e+12</td>\n",
       "      <td>-6.717145e+13</td>\n",
       "      <td>7.200695e+13</td>\n",
       "      <td>6.500751e+13</td>\n",
       "      <td>-1.000334e+14</td>\n",
       "      <td>-1.146331e+14</td>\n",
       "      <td>4.988634e+13</td>\n",
       "      <td>1000.0</td>\n",
       "    </tr>\n",
       "    <tr>\n",
       "      <th>2</th>\n",
       "      <td>2.000000e-16</td>\n",
       "      <td>1.006479</td>\n",
       "      <td>0.998066</td>\n",
       "      <td>0.986564</td>\n",
       "      <td>1.014403</td>\n",
       "      <td>1.013003</td>\n",
       "      <td>0.979989</td>\n",
       "      <td>0.977067</td>\n",
       "      <td>1.009981</td>\n",
       "      <td>3.202270e+13</td>\n",
       "      <td>-9.652300e+12</td>\n",
       "      <td>-6.605545e+13</td>\n",
       "      <td>7.088160e+13</td>\n",
       "      <td>6.387067e+13</td>\n",
       "      <td>-9.744668e+13</td>\n",
       "      <td>-1.112240e+14</td>\n",
       "      <td>4.826668e+13</td>\n",
       "      <td>1000.0</td>\n",
       "    </tr>\n",
       "    <tr>\n",
       "      <th>3</th>\n",
       "      <td>3.000000e-16</td>\n",
       "      <td>1.009663</td>\n",
       "      <td>0.997102</td>\n",
       "      <td>0.980013</td>\n",
       "      <td>1.021436</td>\n",
       "      <td>1.019334</td>\n",
       "      <td>0.970370</td>\n",
       "      <td>0.966109</td>\n",
       "      <td>1.014729</td>\n",
       "      <td>3.166325e+13</td>\n",
       "      <td>-9.633657e+12</td>\n",
       "      <td>-6.497276e+13</td>\n",
       "      <td>6.978959e+13</td>\n",
       "      <td>6.276736e+13</td>\n",
       "      <td>-9.496838e+13</td>\n",
       "      <td>-1.079798e+14</td>\n",
       "      <td>4.672692e+13</td>\n",
       "      <td>1000.0</td>\n",
       "    </tr>\n",
       "    <tr>\n",
       "      <th>4</th>\n",
       "      <td>4.000000e-16</td>\n",
       "      <td>1.012812</td>\n",
       "      <td>0.996139</td>\n",
       "      <td>0.973569</td>\n",
       "      <td>1.028361</td>\n",
       "      <td>1.025557</td>\n",
       "      <td>0.960993</td>\n",
       "      <td>0.955467</td>\n",
       "      <td>1.019328</td>\n",
       "      <td>3.131356e+13</td>\n",
       "      <td>-9.615069e+12</td>\n",
       "      <td>-6.392179e+13</td>\n",
       "      <td>6.872932e+13</td>\n",
       "      <td>6.169600e+13</td>\n",
       "      <td>-9.259162e+13</td>\n",
       "      <td>-1.048890e+14</td>\n",
       "      <td>4.526153e+13</td>\n",
       "      <td>1000.0</td>\n",
       "    </tr>\n",
       "  </tbody>\n",
       "</table>\n",
       "</div>"
      ],
      "text/plain": [
       "              t  H-Concentration  OH-Concentration  O2-Concentration  \\\n",
       "0  0.000000e+00         1.000000          1.000000          1.000000   \n",
       "1  1.000000e-16         1.003258          0.999032          0.993225   \n",
       "2  2.000000e-16         1.006479          0.998066          0.986564   \n",
       "3  3.000000e-16         1.009663          0.997102          0.980013   \n",
       "4  4.000000e-16         1.012812          0.996139          0.973569   \n",
       "\n",
       "   HO2-Concentration  C-Concentration  CH-Concentration  CH3-Concentration  \\\n",
       "0           1.000000         1.000000          1.000000           1.000000   \n",
       "1           1.007259         1.006559          0.989862           0.988358   \n",
       "2           1.014403         1.013003          0.979989           0.977067   \n",
       "3           1.021436         1.019334          0.970370           0.966109   \n",
       "4           1.028361         1.025557          0.960993           0.955467   \n",
       "\n",
       "   C3H7-Concentration  H-Reaction_rate  OH-Reaction_rate  O2-Reaction_rate  \\\n",
       "0            1.000000     3.277298e+13     -9.689748e+12     -6.832225e+13   \n",
       "1            1.005073     3.239245e+13     -9.670997e+12     -6.717145e+13   \n",
       "2            1.009981     3.202270e+13     -9.652300e+12     -6.605545e+13   \n",
       "3            1.014729     3.166325e+13     -9.633657e+12     -6.497276e+13   \n",
       "4            1.019328     3.131356e+13     -9.615069e+12     -6.392179e+13   \n",
       "\n",
       "   HO2-Reaction_rate  C-Reaction_rate  CH-Reaction_rate  CH3-Reaction_rate  \\\n",
       "0       7.316712e+13     6.617938e+13     -1.027354e+14      -1.182185e+14   \n",
       "1       7.200695e+13     6.500751e+13     -1.000334e+14      -1.146331e+14   \n",
       "2       7.088160e+13     6.387067e+13     -9.744668e+13      -1.112240e+14   \n",
       "3       6.978959e+13     6.276736e+13     -9.496838e+13      -1.079798e+14   \n",
       "4       6.872932e+13     6.169600e+13     -9.259162e+13      -1.048890e+14   \n",
       "\n",
       "   C3H7-Reaction_rate       T  \n",
       "0        5.159149e+13  1000.0  \n",
       "1        4.988634e+13  1000.0  \n",
       "2        4.826668e+13  1000.0  \n",
       "3        4.672692e+13  1000.0  \n",
       "4        4.526153e+13  1000.0  "
      ]
     },
     "execution_count": 5,
     "metadata": {},
     "output_type": "execute_result"
    }
   ],
   "source": [
    "# result as a dataframe\n",
    "df = cs.to_df()\n",
    "df.head()"
   ]
  },
  {
   "cell_type": "code",
   "execution_count": 6,
   "metadata": {
    "slideshow": {
     "slide_type": "fragment"
    }
   },
   "outputs": [
    {
     "data": {
      "text/plain": [
       "False"
      ]
     },
     "execution_count": 6,
     "metadata": {},
     "output_type": "execute_result"
    }
   ],
   "source": [
    "# Is equilibrium reached at the end time of the reaction?\n",
    "cs.is_equilibrium()"
   ]
  },
  {
   "cell_type": "code",
   "execution_count": 7,
   "metadata": {
    "slideshow": {
     "slide_type": "subslide"
    }
   },
   "outputs": [],
   "source": [
    "# save solved result as a csv file or an HDF5 file\n",
    "cs.save_results('result.csv')\n",
    "cs.save_results('result.h5')"
   ]
  },
  {
   "cell_type": "code",
   "execution_count": 8,
   "metadata": {
    "slideshow": {
     "slide_type": "subslide"
    }
   },
   "outputs": [
    {
     "data": {
      "text/plain": [
       "([[500, 1000, 1500], [array([ 1.,  1.,  1.,  1.,  1.,  1.,  1.,  1.])]],\n",
       " {500: [(array([  0.00000000e+00,   1.00000000e-16,   2.00000000e-16, ...,\n",
       "             4.99700000e-13,   4.99800000e-13,   4.99900000e-13]),\n",
       "    array([[  1.00000000e+00,   1.00254762e+00,   1.00508467e+00, ...,\n",
       "              1.02175902e+00,   1.02169095e+00,   1.02162290e+00],\n",
       "           [  1.00000000e+00,   9.99774842e-01,   9.99549785e-01, ...,\n",
       "              4.70506371e-01,   4.70456520e-01,   4.70406680e-01],\n",
       "           [  1.00000000e+00,   9.93446120e-01,   9.86972129e-01, ...,\n",
       "             -4.98436221e-14,  -4.80602127e-14,  -4.63225756e-14],\n",
       "           ..., \n",
       "           [  1.00000000e+00,   9.94290680e-01,   9.88668968e-01, ...,\n",
       "              2.24712410e+00,   2.24721926e+00,   2.24731438e+00],\n",
       "           [  1.00000000e+00,   9.97040402e-01,   9.94103303e-01, ...,\n",
       "              5.28660499e-04,   5.27940031e-04,   5.27220546e-04],\n",
       "           [  1.00000000e+00,   1.00079988e+00,   1.00159053e+00, ...,\n",
       "              1.14203967e+00,   1.14203967e+00,   1.14203967e+00]]),\n",
       "    array([[  2.55292444e+13,   2.54230981e+13,   2.53177394e+13, ...,\n",
       "             -6.80850109e+11,  -6.80586223e+11,  -6.80322452e+11],\n",
       "           [ -2.25209072e+12,  -2.25107668e+12,  -2.25006333e+12, ...,\n",
       "             -4.98559387e+11,  -4.98453747e+11,  -4.98348141e+11],\n",
       "           [ -6.59405191e+13,  -6.51343447e+13,  -6.43440145e+13, ...,\n",
       "              7.38565495e+00,   7.12169709e+00,   6.86449970e+00],\n",
       "           ..., \n",
       "           [ -5.75337547e+13,  -5.66496432e+13,  -5.57829787e+13, ...,\n",
       "              9.51723314e+11,   9.51377187e+11,   9.51031231e+11],\n",
       "           [ -2.97090223e+13,  -2.94822913e+13,  -2.92593360e+13, ...,\n",
       "             -7.20962678e+09,  -7.19978805e+09,  -7.18996278e+09],\n",
       "           [  8.04530048e+12,   7.95208752e+12,   7.86060920e+12, ...,\n",
       "              5.05269460e+06,   5.03914556e+06,   5.02563279e+06]]))],\n",
       "  1000: [(array([  0.00000000e+00,   1.00000000e-16,   2.00000000e-16, ...,\n",
       "             4.99700000e-13,   4.99800000e-13,   4.99900000e-13]),\n",
       "    array([[  1.00000000e+00,   1.00325822e+00,   1.00647891e+00, ...,\n",
       "              8.26670028e-01,   8.26579041e-01,   8.26488078e-01],\n",
       "           [  1.00000000e+00,   9.99031963e-01,   9.98065799e-01, ...,\n",
       "              1.71175230e-01,   1.71146842e-01,   1.71118465e-01],\n",
       "           [  1.00000000e+00,   9.93225497e-01,   9.86564355e-01, ...,\n",
       "             -5.39377464e-14,  -5.49187615e-14,  -5.59179299e-14],\n",
       "           ..., \n",
       "           [  1.00000000e+00,   9.89862168e-01,   9.79988834e-01, ...,\n",
       "              1.51668627e+00,   1.51679196e+00,   1.51689762e+00],\n",
       "           [  1.00000000e+00,   9.88358351e-01,   9.77066515e-01, ...,\n",
       "              1.12134402e-04,   1.11965734e-04,   1.11797319e-04],\n",
       "           [  1.00000000e+00,   1.00507344e+00,   1.00998060e+00, ...,\n",
       "              1.29581710e+00,   1.29581710e+00,   1.29581710e+00]]),\n",
       "    array([[  3.27729812e+13,   3.23924469e+13,   3.20226980e+13, ...,\n",
       "             -9.10004133e+11,  -9.09753230e+11,  -9.09502423e+11],\n",
       "           [ -9.68974751e+12,  -9.67099653e+12,  -9.65229992e+12, ...,\n",
       "             -2.83918897e+11,  -2.83824736e+11,  -2.83730622e+11],\n",
       "           [ -6.83222464e+13,  -6.71714499e+13,  -6.60554544e+13, ...,\n",
       "              5.58921338e+00,   5.69126607e+00,   5.79521417e+00],\n",
       "           ..., \n",
       "           [ -1.02735386e+14,  -1.00033398e+14,  -9.74466766e+13, ...,\n",
       "              1.05702058e+12,   1.05671499e+12,   1.05640954e+12],\n",
       "           [ -1.18218456e+14,  -1.14633125e+14,  -1.11224027e+14, ...,\n",
       "             -1.68796287e+09,  -1.68542107e+09,  -1.68288311e+09],\n",
       "           [  5.15914857e+13,   4.98863389e+13,   4.82666794e+13, ...,\n",
       "              9.83901302e+05,   9.81011983e+05,   9.78131127e+05]]))],\n",
       "  1500: [(array([  0.00000000e+00,   1.00000000e-16,   2.00000000e-16, ...,\n",
       "             4.99700000e-13,   4.99800000e-13,   4.99900000e-13]),\n",
       "    array([[  1.00000000e+00,   1.00389991e+00,   1.00770157e+00, ...,\n",
       "              7.33076948e-01,   7.32981074e-01,   7.32885224e-01],\n",
       "           [  1.00000000e+00,   9.97953347e-01,   9.95915054e-01, ...,\n",
       "              8.89039115e-02,   8.88877047e-02,   8.88715038e-02],\n",
       "           [  1.00000000e+00,   9.93178926e-01,   9.86534768e-01, ...,\n",
       "              6.30769107e-11,   6.26024295e-11,   6.21314641e-11],\n",
       "           ..., \n",
       "           [  1.00000000e+00,   9.80239900e-01,   9.61748679e-01, ...,\n",
       "              1.09126843e+00,   1.09137264e+00,   1.09147682e+00],\n",
       "           [  1.00000000e+00,   9.69167110e-01,   9.40652605e-01, ...,\n",
       "              4.95588039e-05,   4.94817693e-05,   4.94048545e-05],\n",
       "           [  1.00000000e+00,   1.01465159e+00,   1.02816703e+00, ...,\n",
       "              1.37586486e+00,   1.37586486e+00,   1.37586486e+00]]),\n",
       "    array([[  3.95151944e+13,   3.84957706e+13,   3.75490730e+13, ...,\n",
       "             -9.58858887e+11,  -9.58615800e+11,  -9.58372801e+11],\n",
       "           [ -2.05085060e+13,  -2.04246443e+13,  -2.03412959e+13, ...,\n",
       "             -1.62097293e+11,  -1.62038199e+11,  -1.61979137e+11],\n",
       "           [ -6.91351212e+13,  -6.73067470e+13,  -6.55953000e+13, ...,\n",
       "             -4.75883599e+03,  -4.72348978e+03,  -4.68840191e+03],\n",
       "           ..., \n",
       "           [ -2.04475681e+14,  -1.91001925e+14,  -1.79065084e+14, ...,\n",
       "              1.04221754e+12,   1.04194132e+12,   1.04166520e+12],\n",
       "           [ -3.20938392e+14,  -2.96248641e+14,  -2.74506116e+14, ...,\n",
       "             -7.70944146e+08,  -7.69744572e+08,  -7.68546869e+08],\n",
       "           [  1.52699256e+14,   1.40593950e+14,   1.29944244e+14, ...,\n",
       "              4.03152252e+05,   4.01919855e+05,   4.00691157e+05]]))]})"
      ]
     },
     "execution_count": 8,
     "metadata": {},
     "output_type": "execute_result"
    }
   ],
   "source": [
    "# Grid search for parameters\n",
    "cs.grid_search([np.ones(8)], [500,1000,1500], t_max, dt).get_grid_results()"
   ]
  },
  {
   "cell_type": "code",
   "execution_count": 9,
   "metadata": {
    "slideshow": {
     "slide_type": "subslide"
    }
   },
   "outputs": [
    {
     "name": "stdout",
     "output_type": "stream",
     "text": [
      "Finished reading xml input file\n"
     ]
    },
    {
     "data": {
      "text/html": [
       "<div>\n",
       "<style scoped>\n",
       "    .dataframe tbody tr th:only-of-type {\n",
       "        vertical-align: middle;\n",
       "    }\n",
       "\n",
       "    .dataframe tbody tr th {\n",
       "        vertical-align: top;\n",
       "    }\n",
       "\n",
       "    .dataframe thead th {\n",
       "        text-align: right;\n",
       "    }\n",
       "</style>\n",
       "<table border=\"1\" class=\"dataframe\">\n",
       "  <thead>\n",
       "    <tr style=\"text-align: right;\">\n",
       "      <th></th>\n",
       "      <th>t</th>\n",
       "      <th>H-Concentration</th>\n",
       "      <th>OH-Concentration</th>\n",
       "      <th>O2-Concentration</th>\n",
       "      <th>HO2-Concentration</th>\n",
       "      <th>C-Concentration</th>\n",
       "      <th>CH-Concentration</th>\n",
       "      <th>CH3-Concentration</th>\n",
       "      <th>C3H7-Concentration</th>\n",
       "      <th>H-Reaction_rate</th>\n",
       "      <th>OH-Reaction_rate</th>\n",
       "      <th>O2-Reaction_rate</th>\n",
       "      <th>HO2-Reaction_rate</th>\n",
       "      <th>C-Reaction_rate</th>\n",
       "      <th>CH-Reaction_rate</th>\n",
       "      <th>CH3-Reaction_rate</th>\n",
       "      <th>C3H7-Reaction_rate</th>\n",
       "      <th>T</th>\n",
       "    </tr>\n",
       "  </thead>\n",
       "  <tbody>\n",
       "    <tr>\n",
       "      <th>0</th>\n",
       "      <td>0.000000e+00</td>\n",
       "      <td>1.000000</td>\n",
       "      <td>1.000000</td>\n",
       "      <td>1.000000</td>\n",
       "      <td>1.000000</td>\n",
       "      <td>1.000000</td>\n",
       "      <td>1.000000</td>\n",
       "      <td>1.000000</td>\n",
       "      <td>1.000000</td>\n",
       "      <td>3.277298e+13</td>\n",
       "      <td>-9.689748e+12</td>\n",
       "      <td>-6.832225e+13</td>\n",
       "      <td>7.316712e+13</td>\n",
       "      <td>6.617938e+13</td>\n",
       "      <td>-1.027354e+14</td>\n",
       "      <td>-1.182185e+14</td>\n",
       "      <td>5.159149e+13</td>\n",
       "      <td>1000.0</td>\n",
       "    </tr>\n",
       "    <tr>\n",
       "      <th>1</th>\n",
       "      <td>1.000000e-16</td>\n",
       "      <td>1.003258</td>\n",
       "      <td>0.999032</td>\n",
       "      <td>0.993225</td>\n",
       "      <td>1.007259</td>\n",
       "      <td>1.006559</td>\n",
       "      <td>0.989862</td>\n",
       "      <td>0.988358</td>\n",
       "      <td>1.005073</td>\n",
       "      <td>3.239245e+13</td>\n",
       "      <td>-9.670997e+12</td>\n",
       "      <td>-6.717145e+13</td>\n",
       "      <td>7.200695e+13</td>\n",
       "      <td>6.500751e+13</td>\n",
       "      <td>-1.000334e+14</td>\n",
       "      <td>-1.146331e+14</td>\n",
       "      <td>4.988634e+13</td>\n",
       "      <td>1000.0</td>\n",
       "    </tr>\n",
       "    <tr>\n",
       "      <th>2</th>\n",
       "      <td>2.000000e-16</td>\n",
       "      <td>1.006479</td>\n",
       "      <td>0.998066</td>\n",
       "      <td>0.986564</td>\n",
       "      <td>1.014403</td>\n",
       "      <td>1.013003</td>\n",
       "      <td>0.979989</td>\n",
       "      <td>0.977067</td>\n",
       "      <td>1.009981</td>\n",
       "      <td>3.202270e+13</td>\n",
       "      <td>-9.652300e+12</td>\n",
       "      <td>-6.605545e+13</td>\n",
       "      <td>7.088160e+13</td>\n",
       "      <td>6.387067e+13</td>\n",
       "      <td>-9.744668e+13</td>\n",
       "      <td>-1.112240e+14</td>\n",
       "      <td>4.826668e+13</td>\n",
       "      <td>1000.0</td>\n",
       "    </tr>\n",
       "    <tr>\n",
       "      <th>3</th>\n",
       "      <td>3.000000e-16</td>\n",
       "      <td>1.009663</td>\n",
       "      <td>0.997102</td>\n",
       "      <td>0.980013</td>\n",
       "      <td>1.021436</td>\n",
       "      <td>1.019334</td>\n",
       "      <td>0.970370</td>\n",
       "      <td>0.966109</td>\n",
       "      <td>1.014729</td>\n",
       "      <td>3.166325e+13</td>\n",
       "      <td>-9.633657e+12</td>\n",
       "      <td>-6.497276e+13</td>\n",
       "      <td>6.978959e+13</td>\n",
       "      <td>6.276736e+13</td>\n",
       "      <td>-9.496838e+13</td>\n",
       "      <td>-1.079798e+14</td>\n",
       "      <td>4.672692e+13</td>\n",
       "      <td>1000.0</td>\n",
       "    </tr>\n",
       "    <tr>\n",
       "      <th>4</th>\n",
       "      <td>4.000000e-16</td>\n",
       "      <td>1.012812</td>\n",
       "      <td>0.996139</td>\n",
       "      <td>0.973569</td>\n",
       "      <td>1.028361</td>\n",
       "      <td>1.025557</td>\n",
       "      <td>0.960993</td>\n",
       "      <td>0.955467</td>\n",
       "      <td>1.019328</td>\n",
       "      <td>3.131356e+13</td>\n",
       "      <td>-9.615069e+12</td>\n",
       "      <td>-6.392179e+13</td>\n",
       "      <td>6.872932e+13</td>\n",
       "      <td>6.169600e+13</td>\n",
       "      <td>-9.259162e+13</td>\n",
       "      <td>-1.048890e+14</td>\n",
       "      <td>4.526153e+13</td>\n",
       "      <td>1000.0</td>\n",
       "    </tr>\n",
       "  </tbody>\n",
       "</table>\n",
       "</div>"
      ],
      "text/plain": [
       "              t  H-Concentration  OH-Concentration  O2-Concentration  \\\n",
       "0  0.000000e+00         1.000000          1.000000          1.000000   \n",
       "1  1.000000e-16         1.003258          0.999032          0.993225   \n",
       "2  2.000000e-16         1.006479          0.998066          0.986564   \n",
       "3  3.000000e-16         1.009663          0.997102          0.980013   \n",
       "4  4.000000e-16         1.012812          0.996139          0.973569   \n",
       "\n",
       "   HO2-Concentration  C-Concentration  CH-Concentration  CH3-Concentration  \\\n",
       "0           1.000000         1.000000          1.000000           1.000000   \n",
       "1           1.007259         1.006559          0.989862           0.988358   \n",
       "2           1.014403         1.013003          0.979989           0.977067   \n",
       "3           1.021436         1.019334          0.970370           0.966109   \n",
       "4           1.028361         1.025557          0.960993           0.955467   \n",
       "\n",
       "   C3H7-Concentration  H-Reaction_rate  OH-Reaction_rate  O2-Reaction_rate  \\\n",
       "0            1.000000     3.277298e+13     -9.689748e+12     -6.832225e+13   \n",
       "1            1.005073     3.239245e+13     -9.670997e+12     -6.717145e+13   \n",
       "2            1.009981     3.202270e+13     -9.652300e+12     -6.605545e+13   \n",
       "3            1.014729     3.166325e+13     -9.633657e+12     -6.497276e+13   \n",
       "4            1.019328     3.131356e+13     -9.615069e+12     -6.392179e+13   \n",
       "\n",
       "   HO2-Reaction_rate  C-Reaction_rate  CH-Reaction_rate  CH3-Reaction_rate  \\\n",
       "0       7.316712e+13     6.617938e+13     -1.027354e+14      -1.182185e+14   \n",
       "1       7.200695e+13     6.500751e+13     -1.000334e+14      -1.146331e+14   \n",
       "2       7.088160e+13     6.387067e+13     -9.744668e+13      -1.112240e+14   \n",
       "3       6.978959e+13     6.276736e+13     -9.496838e+13      -1.079798e+14   \n",
       "4       6.872932e+13     6.169600e+13     -9.259162e+13      -1.048890e+14   \n",
       "\n",
       "   C3H7-Reaction_rate       T  \n",
       "0        5.159149e+13  1000.0  \n",
       "1        4.988634e+13  1000.0  \n",
       "2        4.826668e+13  1000.0  \n",
       "3        4.672692e+13  1000.0  \n",
       "4        4.526153e+13  1000.0  "
      ]
     },
     "execution_count": 9,
     "metadata": {},
     "output_type": "execute_result"
    }
   ],
   "source": [
    "# load from file -- csv or hdf5. Useful when solving ODE takes long time\n",
    "cs = ChemSolver(chemkin('demo_xml/demo.xml')).load_results('result.csv')\n",
    "cs.to_df().head()"
   ]
  },
  {
   "cell_type": "markdown",
   "metadata": {
    "slideshow": {
     "slide_type": "slide"
    }
   },
   "source": [
    "## Chemkin Solver Visualization\n",
    "\n",
    "We implemented a `ChemViz` class which is built on a solved `ChemSolver` object...(insert presentation scripts here...)"
   ]
  },
  {
   "cell_type": "code",
   "execution_count": 10,
   "metadata": {
    "slideshow": {
     "slide_type": "subslide"
    }
   },
   "outputs": [
    {
     "data": {
      "image/png": "[encoded data removed]",
      "text/plain": [
       "<matplotlib.figure.Figure at 0x7f3bf8866dd8>"
      ]
     },
     "execution_count": 10,
     "metadata": {},
     "output_type": "execute_result"
    }
   ],
   "source": [
    "import matplotlib.pyplot as plt\n",
    "%matplotlib inline\n",
    "cv = ChemViz(cs)\n",
    "cv.plot_time_series(\"reactionrate\",tmin=1e-13)"
   ]
  },
  {
   "cell_type": "code",
   "execution_count": 11,
   "metadata": {
    "slideshow": {
     "slide_type": "subslide"
    }
   },
   "outputs": [
    {
     "data": {
      "image/png": "[encoded data removed]",
      "text/plain": [
       "<matplotlib.figure.Figure at 0x7f3bf88b8b00>"
      ]
     },
     "execution_count": 11,
     "metadata": {},
     "output_type": "execute_result"
    }
   ],
   "source": [
    "cv.plot_time_series(\"concentration\",tmax=3.8e-13)"
   ]
  },
  {
   "cell_type": "code",
   "execution_count": 12,
   "metadata": {
    "slideshow": {
     "slide_type": "subslide"
    }
   },
   "outputs": [
    {
     "data": {
      "image/png": "[encoded data removed]",
      "text/plain": [
       "<matplotlib.figure.Figure at 0x7f3bf8903e80>"
      ]
     },
     "execution_count": 12,
     "metadata": {},
     "output_type": "execute_result"
    }
   ],
   "source": [
    "cv.plot_network([0])"
   ]
  },
  {
   "cell_type": "code",
   "execution_count": 13,
   "metadata": {
    "slideshow": {
     "slide_type": "subslide"
    }
   },
   "outputs": [
    {
     "data": {
      "image/png": "[encoded data removed]",
      "text/plain": [
       "<matplotlib.figure.Figure at 0x7f3bf86d07b8>"
      ]
     },
     "execution_count": 13,
     "metadata": {},
     "output_type": "execute_result"
    }
   ],
   "source": [
    "cv.plot_network([3.8e-13])"
   ]
  },
  {
   "cell_type": "code",
   "execution_count": 14,
   "metadata": {
    "slideshow": {
     "slide_type": "subslide"
    }
   },
   "outputs": [],
   "source": [
    "cv.html_report('report.html')"
   ]
  },
  {
   "cell_type": "markdown",
   "metadata": {
    "slideshow": {
     "slide_type": "fragment"
    }
   },
   "source": [
    "After running the above code, an HTML report will be generated as <a href=\"report.html\" target=\"_blank\">report.html</a>\n"
   ]
  },
  {
   "cell_type": "markdown",
   "metadata": {
    "slideshow": {
     "slide_type": "slide"
    }
   },
   "source": [
    "## simpleIO\n",
    "\n",
    "We implemented a `simpleIO` class which can save and load objects...(insert presentation scripts here...)"
   ]
  },
  {
   "cell_type": "code",
   "execution_count": 15,
   "metadata": {
    "slideshow": {
     "slide_type": "subslide"
    }
   },
   "outputs": [
    {
     "data": {
      "text/html": [
       "<div>\n",
       "<style scoped>\n",
       "    .dataframe tbody tr th:only-of-type {\n",
       "        vertical-align: middle;\n",
       "    }\n",
       "\n",
       "    .dataframe tbody tr th {\n",
       "        vertical-align: top;\n",
       "    }\n",
       "\n",
       "    .dataframe thead th {\n",
       "        text-align: right;\n",
       "    }\n",
       "</style>\n",
       "<table border=\"1\" class=\"dataframe\">\n",
       "  <thead>\n",
       "    <tr style=\"text-align: right;\">\n",
       "      <th></th>\n",
       "      <th>t</th>\n",
       "      <th>H-Concentration</th>\n",
       "      <th>OH-Concentration</th>\n",
       "      <th>O2-Concentration</th>\n",
       "      <th>HO2-Concentration</th>\n",
       "      <th>C-Concentration</th>\n",
       "      <th>CH-Concentration</th>\n",
       "      <th>CH3-Concentration</th>\n",
       "      <th>C3H7-Concentration</th>\n",
       "      <th>H-Reaction_rate</th>\n",
       "      <th>OH-Reaction_rate</th>\n",
       "      <th>O2-Reaction_rate</th>\n",
       "      <th>HO2-Reaction_rate</th>\n",
       "      <th>C-Reaction_rate</th>\n",
       "      <th>CH-Reaction_rate</th>\n",
       "      <th>CH3-Reaction_rate</th>\n",
       "      <th>C3H7-Reaction_rate</th>\n",
       "      <th>T</th>\n",
       "    </tr>\n",
       "  </thead>\n",
       "  <tbody>\n",
       "    <tr>\n",
       "      <th>0</th>\n",
       "      <td>0.000000e+00</td>\n",
       "      <td>1.000000</td>\n",
       "      <td>1.000000</td>\n",
       "      <td>1.000000</td>\n",
       "      <td>1.000000</td>\n",
       "      <td>1.000000</td>\n",
       "      <td>1.000000</td>\n",
       "      <td>1.000000</td>\n",
       "      <td>1.000000</td>\n",
       "      <td>3.277298e+13</td>\n",
       "      <td>-9.689748e+12</td>\n",
       "      <td>-6.832225e+13</td>\n",
       "      <td>7.316712e+13</td>\n",
       "      <td>6.617938e+13</td>\n",
       "      <td>-1.027354e+14</td>\n",
       "      <td>-1.182185e+14</td>\n",
       "      <td>5.159149e+13</td>\n",
       "      <td>1000.0</td>\n",
       "    </tr>\n",
       "    <tr>\n",
       "      <th>1</th>\n",
       "      <td>1.000000e-16</td>\n",
       "      <td>1.003258</td>\n",
       "      <td>0.999032</td>\n",
       "      <td>0.993225</td>\n",
       "      <td>1.007259</td>\n",
       "      <td>1.006559</td>\n",
       "      <td>0.989862</td>\n",
       "      <td>0.988358</td>\n",
       "      <td>1.005073</td>\n",
       "      <td>3.239245e+13</td>\n",
       "      <td>-9.670997e+12</td>\n",
       "      <td>-6.717145e+13</td>\n",
       "      <td>7.200695e+13</td>\n",
       "      <td>6.500751e+13</td>\n",
       "      <td>-1.000334e+14</td>\n",
       "      <td>-1.146331e+14</td>\n",
       "      <td>4.988634e+13</td>\n",
       "      <td>1000.0</td>\n",
       "    </tr>\n",
       "    <tr>\n",
       "      <th>2</th>\n",
       "      <td>2.000000e-16</td>\n",
       "      <td>1.006479</td>\n",
       "      <td>0.998066</td>\n",
       "      <td>0.986564</td>\n",
       "      <td>1.014403</td>\n",
       "      <td>1.013003</td>\n",
       "      <td>0.979989</td>\n",
       "      <td>0.977067</td>\n",
       "      <td>1.009981</td>\n",
       "      <td>3.202270e+13</td>\n",
       "      <td>-9.652300e+12</td>\n",
       "      <td>-6.605545e+13</td>\n",
       "      <td>7.088160e+13</td>\n",
       "      <td>6.387067e+13</td>\n",
       "      <td>-9.744668e+13</td>\n",
       "      <td>-1.112240e+14</td>\n",
       "      <td>4.826668e+13</td>\n",
       "      <td>1000.0</td>\n",
       "    </tr>\n",
       "    <tr>\n",
       "      <th>3</th>\n",
       "      <td>3.000000e-16</td>\n",
       "      <td>1.009663</td>\n",
       "      <td>0.997102</td>\n",
       "      <td>0.980013</td>\n",
       "      <td>1.021436</td>\n",
       "      <td>1.019334</td>\n",
       "      <td>0.970370</td>\n",
       "      <td>0.966109</td>\n",
       "      <td>1.014729</td>\n",
       "      <td>3.166325e+13</td>\n",
       "      <td>-9.633657e+12</td>\n",
       "      <td>-6.497276e+13</td>\n",
       "      <td>6.978959e+13</td>\n",
       "      <td>6.276736e+13</td>\n",
       "      <td>-9.496838e+13</td>\n",
       "      <td>-1.079798e+14</td>\n",
       "      <td>4.672692e+13</td>\n",
       "      <td>1000.0</td>\n",
       "    </tr>\n",
       "    <tr>\n",
       "      <th>4</th>\n",
       "      <td>4.000000e-16</td>\n",
       "      <td>1.012812</td>\n",
       "      <td>0.996139</td>\n",
       "      <td>0.973569</td>\n",
       "      <td>1.028361</td>\n",
       "      <td>1.025557</td>\n",
       "      <td>0.960993</td>\n",
       "      <td>0.955467</td>\n",
       "      <td>1.019328</td>\n",
       "      <td>3.131356e+13</td>\n",
       "      <td>-9.615069e+12</td>\n",
       "      <td>-6.392179e+13</td>\n",
       "      <td>6.872932e+13</td>\n",
       "      <td>6.169600e+13</td>\n",
       "      <td>-9.259162e+13</td>\n",
       "      <td>-1.048890e+14</td>\n",
       "      <td>4.526153e+13</td>\n",
       "      <td>1000.0</td>\n",
       "    </tr>\n",
       "  </tbody>\n",
       "</table>\n",
       "</div>"
      ],
      "text/plain": [
       "              t  H-Concentration  OH-Concentration  O2-Concentration  \\\n",
       "0  0.000000e+00         1.000000          1.000000          1.000000   \n",
       "1  1.000000e-16         1.003258          0.999032          0.993225   \n",
       "2  2.000000e-16         1.006479          0.998066          0.986564   \n",
       "3  3.000000e-16         1.009663          0.997102          0.980013   \n",
       "4  4.000000e-16         1.012812          0.996139          0.973569   \n",
       "\n",
       "   HO2-Concentration  C-Concentration  CH-Concentration  CH3-Concentration  \\\n",
       "0           1.000000         1.000000          1.000000           1.000000   \n",
       "1           1.007259         1.006559          0.989862           0.988358   \n",
       "2           1.014403         1.013003          0.979989           0.977067   \n",
       "3           1.021436         1.019334          0.970370           0.966109   \n",
       "4           1.028361         1.025557          0.960993           0.955467   \n",
       "\n",
       "   C3H7-Concentration  H-Reaction_rate  OH-Reaction_rate  O2-Reaction_rate  \\\n",
       "0            1.000000     3.277298e+13     -9.689748e+12     -6.832225e+13   \n",
       "1            1.005073     3.239245e+13     -9.670997e+12     -6.717145e+13   \n",
       "2            1.009981     3.202270e+13     -9.652300e+12     -6.605545e+13   \n",
       "3            1.014729     3.166325e+13     -9.633657e+12     -6.497276e+13   \n",
       "4            1.019328     3.131356e+13     -9.615069e+12     -6.392179e+13   \n",
       "\n",
       "   HO2-Reaction_rate  C-Reaction_rate  CH-Reaction_rate  CH3-Reaction_rate  \\\n",
       "0       7.316712e+13     6.617938e+13     -1.027354e+14      -1.182185e+14   \n",
       "1       7.200695e+13     6.500751e+13     -1.000334e+14      -1.146331e+14   \n",
       "2       7.088160e+13     6.387067e+13     -9.744668e+13      -1.112240e+14   \n",
       "3       6.978959e+13     6.276736e+13     -9.496838e+13      -1.079798e+14   \n",
       "4       6.872932e+13     6.169600e+13     -9.259162e+13      -1.048890e+14   \n",
       "\n",
       "   C3H7-Reaction_rate       T  \n",
       "0        5.159149e+13  1000.0  \n",
       "1        4.988634e+13  1000.0  \n",
       "2        4.826668e+13  1000.0  \n",
       "3        4.672692e+13  1000.0  \n",
       "4        4.526153e+13  1000.0  "
      ]
     },
     "execution_count": 15,
     "metadata": {},
     "output_type": "execute_result"
    }
   ],
   "source": [
    "#save the ChemSolver object\n",
    "simpleIO('cs.pkl').to_pickle(cs)\n",
    "cs2 = simpleIO('cs.pkl').read_pickle()\n",
    "cs2.to_df().head()"
   ]
  },
  {
   "cell_type": "code",
   "execution_count": 16,
   "metadata": {
    "slideshow": {
     "slide_type": "subslide"
    }
   },
   "outputs": [
    {
     "data": {
      "image/png": "[encoded data removed]",
      "text/plain": [
       "<matplotlib.figure.Figure at 0x7f3bf20bfb70>"
      ]
     },
     "execution_count": 16,
     "metadata": {},
     "output_type": "execute_result"
    }
   ],
   "source": [
    "#save the ChemViz object\n",
    "simpleIO('cv.pkl').to_pickle(cv)\n",
    "cv2 = simpleIO('cv.pkl').read_pickle()\n",
    "cv2.plot_time_series(\"concentration\",tmax=3.8e-13)"
   ]
  }
 ],
 "metadata": {
  "celltoolbar": "Slideshow",
  "kernelspec": {
   "display_name": "Python 3",
   "language": "python",
   "name": "python3"
  },
  "language_info": {
   "codemirror_mode": {
    "name": "ipython",
    "version": 3
   },
   "file_extension": ".py",
   "mimetype": "text/x-python",
   "name": "python",
   "nbconvert_exporter": "python",
   "pygments_lexer": "ipython3",
   "version": "3.6.3"
  }
 },
 "nbformat": 4,
 "nbformat_minor": 2
}
