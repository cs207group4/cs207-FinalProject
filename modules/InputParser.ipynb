{
 "cells": [
  {
   "cell_type": "code",
   "execution_count": 1,
   "metadata": {},
   "outputs": [
    {
     "name": "stdout",
     "output_type": "stream",
     "text": [
      "Overwriting InputParser.py\n"
     ]
    }
   ],
   "source": [
    "%%file InputParser.py\n",
    "import xml.etree.ElementTree as ET\n",
    "import numpy as np\n",
    "from copy import deepcopy\n",
    "\n",
    "class InputParser:\n",
    "\n",
    "    \"\"\"\n",
    "    This class Input Parser takes the input of a xml file\n",
    "    and creates useful variables can be called by other functions or users\n",
    "\n",
    "\n",
    "    INPUTS\n",
    "    =======\n",
    "    file_name: the xml filename.\n",
    "\n",
    "    RETURNS\n",
    "    ========\n",
    "    ###### After init, following class variables can be used:\n",
    "    'equation' - an equation of the chemical reaction to solve\n",
    "    'id'- the number of reactions in the file\n",
    "    'products'- the output of the chemical equation\n",
    "    'rateCoeffParams'- the variables needed to calculate k, or k\n",
    "    'reactants' - the input of the chemical equation\n",
    "    'reversible'- yes/no if a reversable equation\n",
    "    'type'- the type of reaction (i.e. 'elementary')\n",
    "\n",
    "    EXAMPLES\n",
    "    =========\n",
    "    >>> input_ = InputParser('rxns.xml')\n",
    "    Finished reading xml input file\n",
    "    >>> print(input_.species)\n",
    "    ['H', 'O', 'OH', 'H2', 'H2O', 'O2']\n",
    "    \"\"\"\n",
    "\n",
    "\n",
    "    def __init__(self, file_name):\n",
    "        \"\"\"\n",
    "        INPUT\n",
    "        =====\n",
    "        file_name: string\n",
    "                   name of xml input file\n",
    "\n",
    "        \"\"\"\n",
    "        self.file_name = file_name\n",
    "        self.raw = ET.parse(self.file_name).getroot()\n",
    "        self.species = self.get_species()\n",
    "        self.reactions = self.get_reactions()\n",
    "        self.nu_react, self.nu_prod = self.get_nu()\n",
    "        self.rate_coeff_params = self.get_rate_coeff_params()\n",
    "        print(\"Finished reading xml input file\")\n",
    "\n",
    "    def get_species(self):\n",
    "        \"\"\"\n",
    "        Retrieves species array from xml file\n",
    "        \"\"\"\n",
    "        try:\n",
    "            species = self.raw.find('phase').find('speciesArray').text.strip().split()\n",
    "        except AttributeError:\n",
    "            print('ERROR: Check that valid species array is provided in xml input file')\n",
    "            raise\n",
    "        if len(species)==0:\n",
    "            raise ValueError('ERROR: Species array needs to be provided')\n",
    "        else:\n",
    "            return species\n",
    "\n",
    "\n",
    "    def get_reactions(self):\n",
    "        \"\"\"\n",
    "        Returns list of dictionaries of information about each reaction in the xml file\n",
    "        \"\"\"\n",
    "        def parse_rate_coeff(reaction, reaction_dict):\n",
    "            rc_ = reaction.findall('rateCoeff')\n",
    "            if len(rc_) > 1:\n",
    "                raise NotImplementedError('ERROR: Only irreversible reactions are currently supported')\n",
    "            elif len(rc_)==0:\n",
    "                raise ValueError('Rate coefficient data appear to be missing')\n",
    "            rc_ = rc_[0]\n",
    "            reaction_dict['rateCoeffParams'] = dict()\n",
    "            if rc_.find('Constant') is not None:\n",
    "                reaction_dict['rateCoeffParams']['type'] = 'Constant'\n",
    "                try:\n",
    "                    k = float(rc_.find('Constant').find('k').text)\n",
    "\n",
    "                except AttributeError:\n",
    "                    print('ERROR: Value of k must be provided for constant rate coefficient')\n",
    "                    raise\n",
    "                if k<=0:\n",
    "                    raise ValueError('k must be non-negative')\n",
    "                else:\n",
    "                    reaction_dict['rateCoeffParams']['k'] = k\n",
    "\n",
    "            elif rc_.find('Arrhenius') is not None:\n",
    "                reaction_dict['rateCoeffParams']['type'] = 'Arrhenius'\n",
    "                try:\n",
    "                    A = float(rc_.find('Arrhenius').find('A').text)\n",
    "                    E = float(rc_.find('Arrhenius').find('E').text)\n",
    "                except AttributeError:\n",
    "                    print('ERROR: Values of A and E must be provided for Arrhenius rate coefficient')\n",
    "                    raise\n",
    "                if A <=0 or E<0:\n",
    "                    raise ValueError('A must always be positive and E must be non-negative')\n",
    "                else:\n",
    "                    reaction_dict['rateCoeffParams']['A'] = A\n",
    "                    reaction_dict['rateCoeffParams']['E'] = E\n",
    "\n",
    "            elif rc_.find('modifiedArrhenius') is not None:\n",
    "                reaction_dict['rateCoeffParams']['type'] = 'modifiedArrhenius'\n",
    "                try:\n",
    "                    A= float(rc_.find('modifiedArrhenius').find('A').text)\n",
    "                    b = float(rc_.find('modifiedArrhenius').find('b').text)\n",
    "                    E = float(rc_.find('modifiedArrhenius').find('E').text)\n",
    "                except AttributeError:\n",
    "                    print('ERROR: Values of A, b, and E must be provided for modified Arrhenius rate coefficient')\n",
    "                    raise\n",
    "                if A <=0 or E<0 or np.iscomplex(b):\n",
    "                    raise ValueError('ERROR: A must always be positive, E must be non-negative, and b must be real')\n",
    "                else:\n",
    "                    reaction_dict['rateCoeffParams']['A'] = A\n",
    "                    reaction_dict['rateCoeffParams']['b'] = b\n",
    "                    reaction_dict['rateCoeffParams']['E'] = E\n",
    "            else:\n",
    "                raise NotImplementedError('This type of reaction rate coefficient has not been implemented. Current supported types are constant, Arrhenius, and modified Arrhenius.')\n",
    "\n",
    "        reactions = []\n",
    "        #check that only one system of reactions is present in the file\n",
    "        rxndata = self.raw.findall('reactionData')\n",
    "        if len(rxndata) > 1:\n",
    "            raise ValueError('ERROR: Only one reaction system allowed in input file')\n",
    "        elif len(rxndata)==0 or len(rxndata[0])==0:\n",
    "            raise ValueError('Error: No reactions appear to be present in input file')\n",
    "\n",
    "        else:\n",
    "            for i, reaction in enumerate(rxndata[0]):\n",
    "                reactions.append(deepcopy(reaction.attrib))\n",
    "                parse_rate_coeff(reaction, reactions[i])\n",
    "                try:\n",
    "                    reactions[i]['equation'] = reaction.find('equation').text\n",
    "                    reactions[i]['reactants'] = {s.split(':')[0]:int(s.split(':')[1]) \\\n",
    "                                         for s in reaction.find('reactants').text.split()}\n",
    "                    reactions[i]['products'] = {s.split(':')[0]:int(s.split(':')[1]) \\\n",
    "                                         for s in reaction.find('products').text.split()}\n",
    "\n",
    "                except AttributeError:\n",
    "                    print(\"Check that equation, reactants, and products information are present for every reaction\")\n",
    "                    raise\n",
    "\n",
    "                except ValueError:\n",
    "                    print(\"Stoichiometric coefficients must be integers\")\n",
    "                    raise\n",
    "        return reactions\n",
    "\n",
    "    def get_nu(self):\n",
    "        \"\"\"\n",
    "        Return tuple of arrays corresponding to stoichiometric coefficients for reactants and for products\n",
    "        \"\"\"\n",
    "\n",
    "        nu_react = np.zeros((len(self.species), len(self.reactions)))\n",
    "        nu_prod = np.zeros((len(self.species), len(self.reactions)))\n",
    "\n",
    "        for i, reaction in enumerate(self.reactions):\n",
    "            if not (reaction['reversible'] == 'no' and reaction['type'] == 'Elementary'):\n",
    "                raise NotImplementedError('Reactions that are reversible or non-elementary are not yet handled by this program.')\n",
    "            for specie, stoi in reaction['reactants'].items():\n",
    "                nu_react[self.species.index(specie), i] = stoi\n",
    "            for specie, stoi in reaction['products'].items():\n",
    "                nu_prod[self.species.index(specie), i] = stoi\n",
    "\n",
    "        return nu_react, nu_prod\n",
    "\n",
    "    def get_rate_coeff_params(self):\n",
    "        \"\"\"getter for rate coefficients\"\"\"\n",
    "        return [reaction['rateCoeffParams'] for reaction in self.reactions]\n",
    "\n",
    "    def __repr__(self):\n",
    "        \"\"\"Return a printable representation of the object.\"\"\"\n",
    "        return 'InputParser(file_name=\\'{}\\')'.format(self.file_name)\n",
    "\n",
    "    def __len__(self):\n",
    "        \"\"\"Return the number of chemical reactions.\"\"\"\n",
    "        return len(self.reactions)"
   ]
  },
  {
   "cell_type": "code",
   "execution_count": 2,
   "metadata": {},
   "outputs": [
    {
     "name": "stdout",
     "output_type": "stream",
     "text": [
      "Finished reading xml input file\n"
     ]
    },
    {
     "data": {
      "text/plain": [
       "[{'equation': 'H + O2 =] OH + O',\n",
       "  'id': 'reaction01',\n",
       "  'products': {'O': 1, 'OH': 1},\n",
       "  'rateCoeffParams': {'A': 35200000000.0, 'E': 71400.0, 'type': 'Arrhenius'},\n",
       "  'reactants': {'H': 1, 'O2': 1},\n",
       "  'reversible': 'no',\n",
       "  'type': 'Elementary'},\n",
       " {'equation': 'H2 + O =] OH + H',\n",
       "  'id': 'reaction02',\n",
       "  'products': {'H': 1, 'OH': 1},\n",
       "  'rateCoeffParams': {'A': 0.0506,\n",
       "   'E': 26300.0,\n",
       "   'b': 2.7,\n",
       "   'type': 'modifiedArrhenius'},\n",
       "  'reactants': {'H2': 1, 'O': 1},\n",
       "  'reversible': 'no',\n",
       "  'type': 'Elementary'},\n",
       " {'equation': 'H2 + OH =] H2O + H',\n",
       "  'id': 'reaction03',\n",
       "  'products': {'H': 1, 'H2O': 1},\n",
       "  'rateCoeffParams': {'k': 1000.0, 'type': 'Constant'},\n",
       "  'reactants': {'H2': 1, 'OH': 1},\n",
       "  'reversible': 'no',\n",
       "  'type': 'Elementary'}]"
      ]
     },
     "execution_count": 2,
     "metadata": {},
     "output_type": "execute_result"
    }
   ],
   "source": [
    "from InputParser import *\n",
    "input_ = InputParser('rxns.xml')\n",
    "input_.reactions"
   ]
  },
  {
   "cell_type": "code",
   "execution_count": 3,
   "metadata": {},
   "outputs": [
    {
     "name": "stdout",
     "output_type": "stream",
     "text": [
      "[[ 1.  0.  0.]\n",
      " [ 0.  1.  0.]\n",
      " [ 0.  0.  1.]\n",
      " [ 0.  1.  1.]\n",
      " [ 0.  0.  0.]\n",
      " [ 1.  0.  0.]]\n",
      "[[ 0.  1.  1.]\n",
      " [ 1.  0.  0.]\n",
      " [ 1.  1.  0.]\n",
      " [ 0.  0.  0.]\n",
      " [ 0.  0.  1.]\n",
      " [ 0.  0.  0.]]\n"
     ]
    }
   ],
   "source": [
    "print(input_.nu_react)\n",
    "print(input_.nu_prod)"
   ]
  },
  {
   "cell_type": "code",
   "execution_count": 4,
   "metadata": {},
   "outputs": [
    {
     "data": {
      "text/plain": [
       "[{'A': 35200000000.0, 'E': 71400.0, 'type': 'Arrhenius'},\n",
       " {'A': 0.0506, 'E': 26300.0, 'b': 2.7, 'type': 'modifiedArrhenius'},\n",
       " {'k': 1000.0, 'type': 'Constant'}]"
      ]
     },
     "execution_count": 4,
     "metadata": {},
     "output_type": "execute_result"
    }
   ],
   "source": [
    "input_.rate_coeff_params"
   ]
  },
  {
   "cell_type": "code",
   "execution_count": 5,
   "metadata": {},
   "outputs": [
    {
     "name": "stdout",
     "output_type": "stream",
     "text": [
      "InputParser(file_name='rxns.xml')\n",
      "3\n"
     ]
    }
   ],
   "source": [
    "print(repr(input_))\n",
    "print(len(input_))"
   ]
  },
  {
   "cell_type": "code",
   "execution_count": 6,
   "metadata": {},
   "outputs": [
    {
     "data": {
      "text/plain": [
       "['H', 'O', 'OH', 'H2', 'H2O', 'O2']"
      ]
     },
     "execution_count": 6,
     "metadata": {},
     "output_type": "execute_result"
    }
   ],
   "source": [
    "input_.species"
   ]
  }
 ],
 "metadata": {
  "kernelspec": {
   "display_name": "Python 3",
   "language": "python",
   "name": "python3"
  },
  "language_info": {
   "codemirror_mode": {
    "name": "ipython",
    "version": 3
   },
   "file_extension": ".py",
   "mimetype": "text/x-python",
   "name": "python",
   "nbconvert_exporter": "python",
   "pygments_lexer": "ipython3",
   "version": "3.6.2"
  }
 },
 "nbformat": 4,
 "nbformat_minor": 2
}
