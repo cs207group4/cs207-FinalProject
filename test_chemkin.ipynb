{
 "cells": [
  {
   "cell_type": "code",
   "execution_count": 1,
   "metadata": {},
   "outputs": [],
   "source": [
    "from chemkin import *\n",
    "input_ = InputParser('rxns.xml')\n",
    "rc_list = [reaction_coeffs(**params) for params in input_.rate_coeff_params]\n",
    "reaction_rate = reaction_rates(input_.nu_react,input_.nu_prod,rc_list)"
   ]
  },
  {
   "cell_type": "code",
   "execution_count": 2,
   "metadata": {},
   "outputs": [
    {
     "data": {
      "text/plain": [
       "array([ -6.28889929e+06,   6.28989929e+06,   6.82761528e+06,\n",
       "        -2.70357993e+05,   1.00000000e+03,  -6.55925729e+06])"
      ]
     },
     "execution_count": 2,
     "metadata": {},
     "output_type": "execute_result"
    }
   ],
   "source": [
    "reaction_rate.set_rc_params(T=1000)\n",
    "reaction_rate.reaction_rate([[1],[1],[1],[1],[1],[1]])"
   ]
  }
 ],
 "metadata": {
  "kernelspec": {
   "display_name": "Python 3",
   "language": "python",
   "name": "python3"
  },
  "language_info": {
   "codemirror_mode": {
    "name": "ipython",
    "version": 3
   },
   "file_extension": ".py",
   "mimetype": "text/x-python",
   "name": "python",
   "nbconvert_exporter": "python",
   "pygments_lexer": "ipython3",
   "version": "3.6.2"
  }
 },
 "nbformat": 4,
 "nbformat_minor": 2
}
