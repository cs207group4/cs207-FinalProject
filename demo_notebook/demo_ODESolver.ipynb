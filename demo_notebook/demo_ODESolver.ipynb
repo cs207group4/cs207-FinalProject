{
 "cells": [
  {
   "cell_type": "code",
   "execution_count": 1,
   "metadata": {},
   "outputs": [
    {
     "name": "stdout",
     "output_type": "stream",
     "text": [
      "Uninstalling pychemkin-1.0.8:\n",
      "  Successfully uninstalled pychemkin-1.0.8\n",
      "Requirement already up-to-date: numpy in /usr/lib/python3.6/site-packages\n",
      "Requirement already up-to-date: scipy in /usr/lib/python3.6/site-packages\n",
      "Requirement already up-to-date: pandas in /usr/lib/python3.6/site-packages\n",
      "Requirement already up-to-date: pytz>=2011k in /usr/lib/python3.6/site-packages (from pandas)\n",
      "Requirement already up-to-date: python-dateutil>=2 in /usr/lib/python3.6/site-packages (from pandas)\n",
      "Requirement already up-to-date: six>=1.5 in /usr/lib/python3.6/site-packages (from python-dateutil>=2->pandas)\n",
      "running install\n",
      "running bdist_egg\n",
      "running egg_info\n",
      "writing pychemkin.egg-info/PKG-INFO\n",
      "writing dependency_links to pychemkin.egg-info/dependency_links.txt\n",
      "writing requirements to pychemkin.egg-info/requires.txt\n",
      "writing top-level names to pychemkin.egg-info/top_level.txt\n",
      "reading manifest template 'MANIFEST.in'\n",
      "writing manifest file 'pychemkin.egg-info/SOURCES.txt'\n",
      "installing library code to build/bdist.linux-x86_64/egg\n",
      "running install_lib\n",
      "running build_py\n",
      "copying pychemkin/ChemSolver.py -> build/lib/pychemkin\n",
      "creating build/bdist.linux-x86_64/egg\n",
      "creating build/bdist.linux-x86_64/egg/pychemkin\n",
      "copying build/lib/pychemkin/ChemSolver.py -> build/bdist.linux-x86_64/egg/pychemkin\n",
      "creating build/bdist.linux-x86_64/egg/pychemkin/data\n",
      "copying build/lib/pychemkin/data/thermo.sqlite -> build/bdist.linux-x86_64/egg/pychemkin/data\n",
      "copying build/lib/pychemkin/BackwardCoeffs.py -> build/bdist.linux-x86_64/egg/pychemkin\n",
      "copying build/lib/pychemkin/InputParser.py -> build/bdist.linux-x86_64/egg/pychemkin\n",
      "copying build/lib/pychemkin/ReactionCoeffs.py -> build/bdist.linux-x86_64/egg/pychemkin\n",
      "copying build/lib/pychemkin/SQLParser.py -> build/bdist.linux-x86_64/egg/pychemkin\n",
      "copying build/lib/pychemkin/__init__.py -> build/bdist.linux-x86_64/egg/pychemkin\n",
      "copying build/lib/pychemkin/chemkin.py -> build/bdist.linux-x86_64/egg/pychemkin\n",
      "byte-compiling build/bdist.linux-x86_64/egg/pychemkin/ChemSolver.py to ChemSolver.cpython-36.pyc\n",
      "byte-compiling build/bdist.linux-x86_64/egg/pychemkin/BackwardCoeffs.py to BackwardCoeffs.cpython-36.pyc\n",
      "byte-compiling build/bdist.linux-x86_64/egg/pychemkin/InputParser.py to InputParser.cpython-36.pyc\n",
      "byte-compiling build/bdist.linux-x86_64/egg/pychemkin/ReactionCoeffs.py to ReactionCoeffs.cpython-36.pyc\n",
      "byte-compiling build/bdist.linux-x86_64/egg/pychemkin/SQLParser.py to SQLParser.cpython-36.pyc\n",
      "byte-compiling build/bdist.linux-x86_64/egg/pychemkin/__init__.py to __init__.cpython-36.pyc\n",
      "byte-compiling build/bdist.linux-x86_64/egg/pychemkin/chemkin.py to chemkin.cpython-36.pyc\n",
      "creating build/bdist.linux-x86_64/egg/EGG-INFO\n",
      "copying pychemkin.egg-info/PKG-INFO -> build/bdist.linux-x86_64/egg/EGG-INFO\n",
      "copying pychemkin.egg-info/SOURCES.txt -> build/bdist.linux-x86_64/egg/EGG-INFO\n",
      "copying pychemkin.egg-info/dependency_links.txt -> build/bdist.linux-x86_64/egg/EGG-INFO\n",
      "copying pychemkin.egg-info/requires.txt -> build/bdist.linux-x86_64/egg/EGG-INFO\n",
      "copying pychemkin.egg-info/top_level.txt -> build/bdist.linux-x86_64/egg/EGG-INFO\n",
      "creating 'dist/pychemkin-1.0.8-py3.6.egg' and adding 'build/bdist.linux-x86_64/egg' to it\n",
      "removing 'build/bdist.linux-x86_64/egg' (and everything under it)\n",
      "Processing pychemkin-1.0.8-py3.6.egg\n",
      "creating /usr/lib/python3.6/site-packages/pychemkin-1.0.8-py3.6.egg\n",
      "Extracting pychemkin-1.0.8-py3.6.egg to /usr/lib/python3.6/site-packages\n",
      "Adding pychemkin 1.0.8 to easy-install.pth file\n",
      "\n",
      "Installed /usr/lib/python3.6/site-packages/pychemkin-1.0.8-py3.6.egg\n",
      "Processing dependencies for pychemkin==1.0.8\n",
      "Searching for pandas==0.21.0\n",
      "Best match: pandas 0.21.0\n",
      "Adding pandas 0.21.0 to easy-install.pth file\n",
      "\n",
      "Using /usr/lib/python3.6/site-packages\n",
      "Searching for scipy==1.0.0\n",
      "Best match: scipy 1.0.0\n",
      "Adding scipy 1.0.0 to easy-install.pth file\n",
      "\n",
      "Using /usr/lib/python3.6/site-packages\n",
      "Searching for numpy==1.13.3\n",
      "Best match: numpy 1.13.3\n",
      "Adding numpy 1.13.3 to easy-install.pth file\n",
      "\n",
      "Using /usr/lib/python3.6/site-packages\n",
      "Searching for python-dateutil==2.6.1\n",
      "Best match: python-dateutil 2.6.1\n",
      "Adding python-dateutil 2.6.1 to easy-install.pth file\n",
      "\n",
      "Using /usr/lib/python3.6/site-packages\n",
      "Searching for pytz==2017.3\n",
      "Best match: pytz 2017.3\n",
      "Adding pytz 2017.3 to easy-install.pth file\n",
      "\n",
      "Using /usr/lib/python3.6/site-packages\n",
      "Searching for six==1.11.0\n",
      "Best match: six 1.11.0\n",
      "Adding six 1.11.0 to easy-install.pth file\n",
      "\n",
      "Using /usr/lib/python3.6/site-packages\n",
      "Finished processing dependencies for pychemkin==1.0.8\n"
     ]
    },
    {
     "name": "stderr",
     "output_type": "stream",
     "text": [
      "zip_safe flag not set; analyzing archive contents...\n",
      "pychemkin.__pycache__.SQLParser.cpython-36: module references __file__\n"
     ]
    }
   ],
   "source": [
    "%%bash\n",
    "sudo pip uninstall --yes pychemkin\n",
    "sudo pip install numpy scipy pandas --upgrade\n",
    "cd /tmp/cs207-FinalProject/\n",
    "sudo python setup.py install # please change the path"
   ]
  },
  {
   "cell_type": "code",
   "execution_count": 2,
   "metadata": {},
   "outputs": [],
   "source": [
    "from pychemkin import ChemSolver, chemkin\n",
    "import numpy as np"
   ]
  },
  {
   "cell_type": "code",
   "execution_count": 3,
   "metadata": {},
   "outputs": [
    {
     "name": "stdout",
     "output_type": "stream",
     "text": [
      "Finished reading xml input file\n"
     ]
    },
    {
     "data": {
      "text/html": [
       "<div>\n",
       "<style scoped>\n",
       "    .dataframe tbody tr th:only-of-type {\n",
       "        vertical-align: middle;\n",
       "    }\n",
       "\n",
       "    .dataframe tbody tr th {\n",
       "        vertical-align: top;\n",
       "    }\n",
       "\n",
       "    .dataframe thead th {\n",
       "        text-align: right;\n",
       "    }\n",
       "</style>\n",
       "<table border=\"1\" class=\"dataframe\">\n",
       "  <thead>\n",
       "    <tr style=\"text-align: right;\">\n",
       "      <th></th>\n",
       "      <th>t</th>\n",
       "      <th>H-Concentration</th>\n",
       "      <th>O-Concentration</th>\n",
       "      <th>OH-Concentration</th>\n",
       "      <th>H2-Concentration</th>\n",
       "      <th>H2O-Concentration</th>\n",
       "      <th>O2-Concentration</th>\n",
       "      <th>H-Reaction_rate</th>\n",
       "      <th>O-Reaction_rate</th>\n",
       "      <th>OH-Reaction_rate</th>\n",
       "      <th>H2-Reaction_rate</th>\n",
       "      <th>H2O-Reaction_rate</th>\n",
       "      <th>O2-Reaction_rate</th>\n",
       "      <th>T</th>\n",
       "    </tr>\n",
       "  </thead>\n",
       "  <tbody>\n",
       "    <tr>\n",
       "      <th>0</th>\n",
       "      <td>0.000000</td>\n",
       "      <td>1.000000</td>\n",
       "      <td>1.000000</td>\n",
       "      <td>1.000000</td>\n",
       "      <td>1.000000e+00</td>\n",
       "      <td>1.00000</td>\n",
       "      <td>1.000000e+00</td>\n",
       "      <td>-6.288899e+06</td>\n",
       "      <td>6.289899e+06</td>\n",
       "      <td>6.827615e+06</td>\n",
       "      <td>-2.703580e+05</td>\n",
       "      <td>1.000000e+03</td>\n",
       "      <td>-6.559257e+06</td>\n",
       "      <td>1000.0</td>\n",
       "    </tr>\n",
       "    <tr>\n",
       "      <th>1</th>\n",
       "      <td>0.001034</td>\n",
       "      <td>1.000001</td>\n",
       "      <td>1.006530</td>\n",
       "      <td>2.986938</td>\n",
       "      <td>3.774152e-124</td>\n",
       "      <td>1.00653</td>\n",
       "      <td>7.543063e-07</td>\n",
       "      <td>-4.947693e+00</td>\n",
       "      <td>4.947693e+00</td>\n",
       "      <td>4.947693e+00</td>\n",
       "      <td>-1.034509e-118</td>\n",
       "      <td>1.127316e-120</td>\n",
       "      <td>-4.947693e+00</td>\n",
       "      <td>1000.0</td>\n",
       "    </tr>\n",
       "    <tr>\n",
       "      <th>2</th>\n",
       "      <td>0.002069</td>\n",
       "      <td>1.000001</td>\n",
       "      <td>1.006529</td>\n",
       "      <td>2.986938</td>\n",
       "      <td>2.692078e-247</td>\n",
       "      <td>1.00653</td>\n",
       "      <td>1.315340e-06</td>\n",
       "      <td>-8.627667e+00</td>\n",
       "      <td>8.627667e+00</td>\n",
       "      <td>8.627667e+00</td>\n",
       "      <td>-7.379083e-242</td>\n",
       "      <td>8.041069e-244</td>\n",
       "      <td>-8.627667e+00</td>\n",
       "      <td>1000.0</td>\n",
       "    </tr>\n",
       "    <tr>\n",
       "      <th>3</th>\n",
       "      <td>0.003103</td>\n",
       "      <td>1.000000</td>\n",
       "      <td>1.006531</td>\n",
       "      <td>2.986939</td>\n",
       "      <td>1.482197e-323</td>\n",
       "      <td>1.00653</td>\n",
       "      <td>-1.580176e-07</td>\n",
       "      <td>1.036478e+00</td>\n",
       "      <td>-1.036478e+00</td>\n",
       "      <td>-1.036478e+00</td>\n",
       "      <td>-4.036882e-318</td>\n",
       "      <td>4.446591e-320</td>\n",
       "      <td>1.036478e+00</td>\n",
       "      <td>1000.0</td>\n",
       "    </tr>\n",
       "    <tr>\n",
       "      <th>4</th>\n",
       "      <td>0.004138</td>\n",
       "      <td>0.999999</td>\n",
       "      <td>1.006532</td>\n",
       "      <td>2.986940</td>\n",
       "      <td>1.482197e-323</td>\n",
       "      <td>1.00653</td>\n",
       "      <td>-1.343200e-06</td>\n",
       "      <td>8.810384e+00</td>\n",
       "      <td>-8.810384e+00</td>\n",
       "      <td>-8.810384e+00</td>\n",
       "      <td>-4.036882e-318</td>\n",
       "      <td>4.446591e-320</td>\n",
       "      <td>8.810384e+00</td>\n",
       "      <td>1000.0</td>\n",
       "    </tr>\n",
       "  </tbody>\n",
       "</table>\n",
       "</div>"
      ],
      "text/plain": [
       "          t  H-Concentration  O-Concentration  OH-Concentration  \\\n",
       "0  0.000000         1.000000         1.000000          1.000000   \n",
       "1  0.001034         1.000001         1.006530          2.986938   \n",
       "2  0.002069         1.000001         1.006529          2.986938   \n",
       "3  0.003103         1.000000         1.006531          2.986939   \n",
       "4  0.004138         0.999999         1.006532          2.986940   \n",
       "\n",
       "   H2-Concentration  H2O-Concentration  O2-Concentration  H-Reaction_rate  \\\n",
       "0      1.000000e+00            1.00000      1.000000e+00    -6.288899e+06   \n",
       "1     3.774152e-124            1.00653      7.543063e-07    -4.947693e+00   \n",
       "2     2.692078e-247            1.00653      1.315340e-06    -8.627667e+00   \n",
       "3     1.482197e-323            1.00653     -1.580176e-07     1.036478e+00   \n",
       "4     1.482197e-323            1.00653     -1.343200e-06     8.810384e+00   \n",
       "\n",
       "   O-Reaction_rate  OH-Reaction_rate  H2-Reaction_rate  H2O-Reaction_rate  \\\n",
       "0     6.289899e+06      6.827615e+06     -2.703580e+05       1.000000e+03   \n",
       "1     4.947693e+00      4.947693e+00    -1.034509e-118      1.127316e-120   \n",
       "2     8.627667e+00      8.627667e+00    -7.379083e-242      8.041069e-244   \n",
       "3    -1.036478e+00     -1.036478e+00    -4.036882e-318      4.446591e-320   \n",
       "4    -8.810384e+00     -8.810384e+00    -4.036882e-318      4.446591e-320   \n",
       "\n",
       "   O2-Reaction_rate       T  \n",
       "0     -6.559257e+06  1000.0  \n",
       "1     -4.947693e+00  1000.0  \n",
       "2     -8.627667e+00  1000.0  \n",
       "3      1.036478e+00  1000.0  \n",
       "4      8.810384e+00  1000.0  "
      ]
     },
     "execution_count": 3,
     "metadata": {},
     "output_type": "execute_result"
    }
   ],
   "source": [
    "chem = chemkin(\"demo_xml/rxns.xml\")\n",
    "# initial concentration\n",
    "x_init = [1]*6\n",
    "T = 1000\n",
    "# time series you want\n",
    "ts = np.linspace(0,0.03,30)\n",
    "# set to (min val in ts, max val in ts)\n",
    "t_range = (0,0.03)\n",
    "cs = ChemSolver(chem).solve(x_init, T, t_range, ts)\n",
    "df = cs.to_df()\n",
    "df.head()"
   ]
  },
  {
   "cell_type": "code",
   "execution_count": 4,
   "metadata": {},
   "outputs": [
    {
     "data": {
      "text/plain": [
       "[<matplotlib.lines.Line2D at 0x7ff09940d048>]"
      ]
     },
     "execution_count": 4,
     "metadata": {},
     "output_type": "execute_result"
    },
    {
     "data": {
      "image/png": "[encoded data removed]",
      "text/plain": [
       "<matplotlib.figure.Figure at 0x7ff09497a390>"
      ]
     },
     "metadata": {},
     "output_type": "display_data"
    }
   ],
   "source": [
    "import matplotlib.pyplot as plt\n",
    "%matplotlib inline\n",
    "plt.plot(df['t'],df['H2-Concentration'])"
   ]
  },
  {
   "cell_type": "code",
   "execution_count": 5,
   "metadata": {},
   "outputs": [
    {
     "data": {
      "text/plain": [
       "[<matplotlib.lines.Line2D at 0x7ff09454b780>]"
      ]
     },
     "execution_count": 5,
     "metadata": {},
     "output_type": "execute_result"
    },
    {
     "data": {
      "image/png": "[encoded data removed]",
      "text/plain": [
       "<matplotlib.figure.Figure at 0x7ff0cf31cf28>"
      ]
     },
     "metadata": {},
     "output_type": "display_data"
    }
   ],
   "source": [
    "import matplotlib.pyplot as plt\n",
    "%matplotlib inline\n",
    "plt.plot(df['t'],df['H2O-Concentration'])"
   ]
  }
 ],
 "metadata": {
  "kernelspec": {
   "display_name": "Python 3",
   "language": "python",
   "name": "python3"
  },
  "language_info": {
   "codemirror_mode": {
    "name": "ipython",
    "version": 3
   },
   "file_extension": ".py",
   "mimetype": "text/x-python",
   "name": "python",
   "nbconvert_exporter": "python",
   "pygments_lexer": "ipython3",
   "version": "3.6.3"
  }
 },
 "nbformat": 4,
 "nbformat_minor": 2
}
