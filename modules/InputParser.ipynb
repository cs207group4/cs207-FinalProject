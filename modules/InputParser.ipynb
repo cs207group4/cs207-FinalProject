{
 "cells": [
  {
   "cell_type": "code",
   "execution_count": 1,
   "metadata": {},
   "outputs": [
    {
     "name": "stdout",
     "output_type": "stream",
     "text": [
      "Overwriting InputParser.py\n"
     ]
    }
   ],
   "source": [
    "%%file InputParser.py\n",
    "import xml.etree.ElementTree as ET\n",
    "import numpy as np\n",
    "from copy import deepcopy\n",
    "\n",
    "class InputParser:\n",
    "    \n",
    "    \"\"\"Returns the roots of a quadratic equation: ax^2 + bx + c = 0.\n",
    "    \n",
    "    INPUTS\n",
    "    =======\n",
    "    a: float, optional, default value is 1\n",
    "       Coefficient of quadratic term\n",
    "    b: float, optional, default value is 2\n",
    "       Coefficient of linear term\n",
    "    c: float, optional, default value is 0\n",
    "       Constant term\n",
    "    \n",
    "    RETURNS\n",
    "    ========\n",
    "    roots: 2-tuple of complex floats\n",
    "       Has the form (root1, root2) unless a = 0 \n",
    "       in which case a ValueError exception is raised\n",
    "    \n",
    "    EXAMPLES\n",
    "    =========\n",
    "    >>> input_ = InputParser('rxns.xml')\n",
    "    >>> print(input_.species)\n",
    "    [ 'H' 'O' 'OH' 'H2' 'H2O' 'O2' ]\n",
    "    \"\"\"\n",
    "    \n",
    "    def __init__(self, file_name):\n",
    "        self.file_name = file_name\n",
    "        self.raw = ET.parse(self.file_name).getroot()\n",
    "        self.species = self.raw.find('phase').find('speciesArray').text.strip().split()\n",
    "        self.reactions = self.get_reactions(self.raw)\n",
    "        self.nu_react, self.nu_prod = self.get_nu(self.reactions, self.species)\n",
    "        self.rate_coeff_params = self.get_rate_coeff_params(self.reactions)\n",
    "        \n",
    "    def get_reactions(self, raw):\n",
    "        \n",
    "        def parse_rate_coeff(reaction, reaction_dict):\n",
    "            rc_ = reaction.find('rateCoeff')\n",
    "            reaction_dict['rateCoeffParams'] = dict()\n",
    "            if None != rc_.find('Constant'):\n",
    "                reaction_dict['rateCoeffParams']['type'] = 'Constant'\n",
    "                reaction_dict['rateCoeffParams']['k'] = float(rc_.find('Constant').find('k').text)\n",
    "            elif None != rc_.find('Arrhenius'):\n",
    "                reaction_dict['rateCoeffParams']['type'] = 'Arrhenius'\n",
    "                reaction_dict['rateCoeffParams']['A'] = float(rc_.find('Arrhenius').find('A').text)\n",
    "                reaction_dict['rateCoeffParams']['E'] = float(rc_.find('Arrhenius').find('E').text)\n",
    "            elif None != rc_.find('modifiedArrhenius'):\n",
    "                reaction_dict['rateCoeffParams']['type'] = 'modifiedArrhenius'\n",
    "                reaction_dict['rateCoeffParams']['A'] = float(rc_.find('modifiedArrhenius').find('A').text)\n",
    "                reaction_dict['rateCoeffParams']['b'] = float(rc_.find('modifiedArrhenius').find('b').text)\n",
    "                reaction_dict['rateCoeffParams']['E'] = float(rc_.find('modifiedArrhenius').find('E').text)\n",
    "            else:\n",
    "                raise NotImplementedError('The type of reaction rate coefficient has not been implemented.')\n",
    "            \n",
    "        reactions = []\n",
    "        for i, reaction in enumerate(raw.find('reactionData')):\n",
    "            reactions.append(deepcopy(reaction.attrib))\n",
    "            parse_rate_coeff(reaction, reactions[i])\n",
    "            reactions[i]['equation'] = reaction.find('equation').text\n",
    "            reactions[i]['reactants'] = {s.split(':')[0]:float(s.split(':')[1]) \\\n",
    "                                         for s in reaction.find('reactants').text.split()}\n",
    "            reactions[i]['products'] = {s.split(':')[0]:float(s.split(':')[1]) \\\n",
    "                                         for s in reaction.find('products').text.split()}\n",
    "        return reactions\n",
    "    \n",
    "    def get_nu(self, reactions, species):\n",
    "        nu_react = np.zeros((len(species), len(reactions)))\n",
    "        nu_prod = np.zeros((len(species), len(reactions)))\n",
    "        for i, reaction in enumerate(reactions):\n",
    "            if not (reaction['reversible'] == 'no' and reaction['type'] == 'Elementary'):\n",
    "                raise NotImplementedError('The type of reaction has not been implemented.')\n",
    "            for specie, stoi in reaction['reactants'].items():\n",
    "                nu_react[species.index(specie), i] = stoi\n",
    "            for specie, stoi in reaction['products'].items():\n",
    "                nu_prod[species.index(specie), i] = stoi\n",
    "        return nu_react, nu_prod\n",
    "    \n",
    "    def get_rate_coeff_params(self, reactions):\n",
    "        return [reaction['rateCoeffParams'] for reaction in reactions]\n",
    "    \n",
    "    def __repr__(self):\n",
    "        '''Return a printable representation of the object.'''\n",
    "        return 'InputParser(file_name=\\'{}\\')'.format(self.file_name)\n",
    "    \n",
    "    def __len__(self):\n",
    "        '''Return the number of chemical reactions.'''\n",
    "        return len(self.reactions)"
   ]
  },
  {
   "cell_type": "code",
   "execution_count": 2,
   "metadata": {},
   "outputs": [
    {
     "data": {
      "text/plain": [
       "[{'equation': 'H + O2 =] OH + O',\n",
       "  'id': 'reaction01',\n",
       "  'products': {'O': 1.0, 'OH': 1.0},\n",
       "  'rateCoeffParams': {'A': 35200000000.0, 'E': 71400.0, 'type': 'Arrhenius'},\n",
       "  'reactants': {'H': 1.0, 'O2': 1.0},\n",
       "  'reversible': 'no',\n",
       "  'type': 'Elementary'},\n",
       " {'equation': 'H2 + O =] OH + H',\n",
       "  'id': 'reaction02',\n",
       "  'products': {'H': 1.0, 'OH': 1.0},\n",
       "  'rateCoeffParams': {'A': 0.0506,\n",
       "   'E': 26300.0,\n",
       "   'b': 2.7,\n",
       "   'type': 'modifiedArrhenius'},\n",
       "  'reactants': {'H2': 1.0, 'O': 1.0},\n",
       "  'reversible': 'no',\n",
       "  'type': 'Elementary'},\n",
       " {'equation': 'H2 + OH =] H2O + H',\n",
       "  'id': 'reaction03',\n",
       "  'products': {'H': 1.0, 'H2O': 1.0},\n",
       "  'rateCoeffParams': {'k': 1000.0, 'type': 'Constant'},\n",
       "  'reactants': {'H2': 1.0, 'OH': 1.0},\n",
       "  'reversible': 'no',\n",
       "  'type': 'Elementary'}]"
      ]
     },
     "execution_count": 2,
     "metadata": {},
     "output_type": "execute_result"
    }
   ],
   "source": [
    "from InputParser import *\n",
    "input_ = InputParser('rxns.xml')\n",
    "input_.reactions"
   ]
  },
  {
   "cell_type": "code",
   "execution_count": 3,
   "metadata": {},
   "outputs": [
    {
     "name": "stdout",
     "output_type": "stream",
     "text": [
      "[[ 1.  0.  0.]\n",
      " [ 0.  1.  0.]\n",
      " [ 0.  0.  1.]\n",
      " [ 0.  1.  1.]\n",
      " [ 0.  0.  0.]\n",
      " [ 1.  0.  0.]]\n",
      "[[ 0.  1.  1.]\n",
      " [ 1.  0.  0.]\n",
      " [ 1.  1.  0.]\n",
      " [ 0.  0.  0.]\n",
      " [ 0.  0.  1.]\n",
      " [ 0.  0.  0.]]\n"
     ]
    }
   ],
   "source": [
    "print(input_.nu_react)\n",
    "print(input_.nu_prod)"
   ]
  },
  {
   "cell_type": "code",
   "execution_count": 4,
   "metadata": {},
   "outputs": [
    {
     "data": {
      "text/plain": [
       "[{'A': 35200000000.0, 'E': 71400.0, 'type': 'Arrhenius'},\n",
       " {'A': 0.0506, 'E': 26300.0, 'b': 2.7, 'type': 'modifiedArrhenius'},\n",
       " {'k': 1000.0, 'type': 'Constant'}]"
      ]
     },
     "execution_count": 4,
     "metadata": {},
     "output_type": "execute_result"
    }
   ],
   "source": [
    "input_.rate_coeff_params"
   ]
  },
  {
   "cell_type": "code",
   "execution_count": 5,
   "metadata": {},
   "outputs": [
    {
     "name": "stdout",
     "output_type": "stream",
     "text": [
      "InputParser(file_name='rxns.xml')\n",
      "3\n"
     ]
    }
   ],
   "source": [
    "print(repr(input_))\n",
    "print(len(input_))"
   ]
  },
  {
   "cell_type": "code",
   "execution_count": 8,
   "metadata": {},
   "outputs": [
    {
     "data": {
      "text/plain": [
       "['H', 'O', 'OH', 'H2', 'H2O', 'O2']"
      ]
     },
     "execution_count": 8,
     "metadata": {},
     "output_type": "execute_result"
    }
   ],
   "source": [
    "input_.species"
   ]
  }
 ],
 "metadata": {
  "kernelspec": {
   "display_name": "Python 3",
   "language": "python",
   "name": "python3"
  },
  "language_info": {
   "codemirror_mode": {
    "name": "ipython",
    "version": 3
   },
   "file_extension": ".py",
   "mimetype": "text/x-python",
   "name": "python",
   "nbconvert_exporter": "python",
   "pygments_lexer": "ipython3",
   "version": "3.6.1"
  }
 },
 "nbformat": 4,
 "nbformat_minor": 2
}
